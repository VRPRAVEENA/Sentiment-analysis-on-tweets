{
 "cells": [
  {
   "cell_type": "markdown",
   "id": "5ca00cb6",
   "metadata": {},
   "source": [
    "# Sentiment Analysis and modeling on Twitter data for\n",
    "\n",
    "# Taylor Swift from Nov 2021 to Nov 2022,  \n",
    "# in distributed data storage and processing environment "
   ]
  },
  {
   "cell_type": "code",
   "execution_count": 1,
   "id": "2248b97c",
   "metadata": {},
   "outputs": [
    {
     "name": "stdout",
     "output_type": "stream",
     "text": [
      "Defaulting to user installation because normal site-packages is not writeable\n",
      "Requirement already satisfied: spark-nlp==4.2.3 in /home/hduser/.local/lib/python3.10/site-packages (4.2.3)\n",
      "Defaulting to user installation because normal site-packages is not writeable\n",
      "Requirement already satisfied: NLTK in /home/hduser/.local/lib/python3.10/site-packages (3.7)\n",
      "Requirement already satisfied: regex>=2021.8.3 in /home/hduser/.local/lib/python3.10/site-packages (from NLTK) (2022.8.17)\n",
      "Requirement already satisfied: tqdm in /home/hduser/.local/lib/python3.10/site-packages (from NLTK) (4.64.1)\n",
      "Requirement already satisfied: click in /usr/lib/python3/dist-packages (from NLTK) (8.0.3)\n",
      "Requirement already satisfied: joblib in /home/hduser/.local/lib/python3.10/site-packages (from NLTK) (1.1.0)\n",
      "Defaulting to user installation because normal site-packages is not writeable\n",
      "Requirement already satisfied: wordcloud in /home/hduser/.local/lib/python3.10/site-packages (1.8.2.2)\n",
      "Requirement already satisfied: matplotlib in /home/hduser/.local/lib/python3.10/site-packages (from wordcloud) (3.6.2)\n",
      "Requirement already satisfied: numpy>=1.6.1 in /usr/lib/python3/dist-packages (from wordcloud) (1.21.5)\n",
      "Requirement already satisfied: pillow in /usr/lib/python3/dist-packages (from wordcloud) (9.0.1)\n",
      "Requirement already satisfied: packaging>=20.0 in /usr/lib/python3/dist-packages (from matplotlib->wordcloud) (21.3)\n",
      "Requirement already satisfied: cycler>=0.10 in /usr/lib/python3/dist-packages (from matplotlib->wordcloud) (0.11.0)\n",
      "Requirement already satisfied: python-dateutil>=2.7 in /usr/lib/python3/dist-packages (from matplotlib->wordcloud) (2.8.1)\n",
      "Requirement already satisfied: kiwisolver>=1.0.1 in /usr/lib/python3/dist-packages (from matplotlib->wordcloud) (1.3.2)\n",
      "Requirement already satisfied: fonttools>=4.22.0 in /usr/lib/python3/dist-packages (from matplotlib->wordcloud) (4.29.1)\n",
      "Requirement already satisfied: contourpy>=1.0.1 in /home/hduser/.local/lib/python3.10/site-packages (from matplotlib->wordcloud) (1.0.6)\n",
      "Requirement already satisfied: pyparsing>=2.2.1 in /usr/lib/python3/dist-packages (from matplotlib->wordcloud) (2.4.7)\n"
     ]
    }
   ],
   "source": [
    "!pip install spark-nlp==4.2.3\n",
    "!pip install NLTK\n",
    "!pip install wordcloud"
   ]
  },
  {
   "cell_type": "code",
   "execution_count": 2,
   "id": "4d22fabd",
   "metadata": {},
   "outputs": [],
   "source": [
    "# import required packages \n",
    "\n",
    "from pyspark.sql import SparkSession\n",
    "from pyspark import SparkConf, SparkContext\n",
    "from pyspark.sql import SQLContext\n",
    "\n",
    "import warnings\n",
    "warnings.filterwarnings(\"ignore\", category=FutureWarning)\n",
    "warnings.simplefilter('ignore')\n",
    "\n",
    "from pyspark.sql.functions import isnan, when, count, col, lower, regexp_replace\n",
    "from pyspark.sql.types import DateType\n",
    "\n",
    "import pandas as pd\n",
    "import seaborn as sns\n",
    "import matplotlib.pyplot as plt\n",
    "\n",
    "from pyspark.ml.feature import RegexTokenizer\n",
    "import re\n",
    "from textblob import TextBlob\n",
    "\n",
    "from pyspark.sql import functions as F\n",
    "from pyspark.sql.types import StringType, StructType, StructField, FloatType\n",
    "\n",
    "from pyspark.ml.feature import StringIndexer, OneHotEncoder\n",
    "\n",
    "from pyspark.ml.classification import LogisticRegression\n",
    "from pyspark.ml import Pipeline\n",
    "\n",
    "from pyspark.ml.feature import StopWordsRemover, Tokenizer, HashingTF, IDF\n",
    "from pyspark.ml.classification import LogisticRegression\n",
    "\n",
    "from sparknlp.annotator import *\n",
    "from sparknlp.base import *\n",
    "import sparknlp\n",
    "from sparknlp.pretrained import PretrainedPipeline\n",
    "from pyspark.sql.functions import to_timestamp\n",
    "\n",
    "import sys\n",
    "import time\n",
    "\n",
    "import nltk\n",
    "from nltk.corpus import brown"
   ]
  },
  {
   "cell_type": "code",
   "execution_count": 3,
   "id": "a1a06e41",
   "metadata": {},
   "outputs": [],
   "source": [
    "#pyspark --conf \"spark.mongodb.input.uri=mongodb://127.0.0.1/people.con?readPreference=primaryPreferred\" \n",
    "  #--conf \"spark.mongodb.output.uri=mongodb://127.0.0.1/people.con\" \n",
    "    #--packages org.mongodb.spark:mongo-spark-connector_2.12:3.0.2"
   ]
  },
  {
   "cell_type": "code",
   "execution_count": 4,
   "id": "e772c9d2",
   "metadata": {},
   "outputs": [],
   "source": [
    "spark = SparkSession \\\n",
    "    .builder \\\n",
    "    .appName(\"sentiment_analysis\") \\\n",
    "    .master('local')\\\n",
    "    .config(\"spark.mongodb.input.uri\", \"mongodb://localhost:27017/tweetsdb.tweetcoll\") \\\n",
    "    .config(\"spark.mongodb.output.uri\", \"mongodb://localhost:27017/tweetsdb.tweetcoll\") \\\n",
    "    .config('spark.jars.packages', 'org.mongodb.spark:mongo-spark-connector_2.12:3.0.1') \\\n",
    "    .getOrCreate()"
   ]
  },
  {
   "cell_type": "code",
   "execution_count": 5,
   "id": "277630b9",
   "metadata": {},
   "outputs": [],
   "source": [
    "# Load data into hadoop using command prompt\n",
    "# imported the collected csv file into mongodb by using the below command in command prompt\n",
    "\n",
    "# mongoimport --db tweetsdb --collection tweetcoll --type csv --headerline --ignoreBlanks --file tstweet.csv"
   ]
  },
  {
   "cell_type": "code",
   "execution_count": 6,
   "id": "60acc49d",
   "metadata": {},
   "outputs": [
    {
     "name": "stderr",
     "output_type": "stream",
     "text": [
      "                                                                                \r"
     ]
    }
   ],
   "source": [
    "# Reading file from MongoDB into a spark dataframe\n",
    "tweet = spark.read.format(\"com.mongodb.spark.sql.DefaultSource\")\\\n",
    ".option(\"spark.mongodb.input.uri\",\"mongodb://127.0.0.1/tweetsdb.tweetcoll\").load()"
   ]
  },
  {
   "cell_type": "code",
   "execution_count": 7,
   "id": "2d4cda8c",
   "metadata": {},
   "outputs": [
    {
     "name": "stdout",
     "output_type": "stream",
     "text": [
      "root\n",
      " |-- Unnamed: 0: integer (nullable = true)\n",
      " |-- _id: struct (nullable = true)\n",
      " |    |-- oid: string (nullable = true)\n",
      " |-- date: string (nullable = true)\n",
      " |-- hashtags: string (nullable = true)\n",
      " |-- id: long (nullable = true)\n",
      " |-- tweet: string (nullable = true)\n",
      " |-- username: string (nullable = true)\n",
      "\n"
     ]
    }
   ],
   "source": [
    "# checking metadata of data\n",
    "tweet.printSchema()"
   ]
  },
  {
   "cell_type": "code",
   "execution_count": 8,
   "id": "620caeef",
   "metadata": {},
   "outputs": [
    {
     "name": "stderr",
     "output_type": "stream",
     "text": [
      "                                                                                \r"
     ]
    },
    {
     "name": "stdout",
     "output_type": "stream",
     "text": [
      "+----------+--------------------+--------------------+--------+-------------------+--------------------+--------------+\n",
      "|Unnamed: 0|                 _id|                date|hashtags|                 id|               tweet|      username|\n",
      "+----------+--------------------+--------------------+--------+-------------------+--------------------+--------------+\n",
      "|         0|{638cbe37c3dea9f8...|2022-04-26 23:58:...|    null|1519103774664581121|@alannaheartstay ...| diamondssky13|\n",
      "|         1|{638cbe37c3dea9f8...|2022-04-26 23:58:...|    null|1519103554853777408|Yo todavía no sup...|solamenteguada|\n",
      "|         2|{638cbe37c3dea9f8...|2022-04-26 23:57:...|    null|1519103449576706048|@amanda_zcs @TheS...| julialazzari_|\n",
      "|         3|{638cbe37c3dea9f8...|2022-04-26 23:57:...|    null|1519103408048848897|@taylorswift13 u ...| arlyxpimentel|\n",
      "|         4|{638cbe37c3dea9f8...|2022-04-26 23:55:...|    null|1519103014656688135|@katievibesonly @...|  stillbejewel|\n",
      "+----------+--------------------+--------------------+--------+-------------------+--------------------+--------------+\n",
      "only showing top 5 rows\n",
      "\n"
     ]
    }
   ],
   "source": [
    "# Create Temp View\n",
    "view_df = tweet.createOrReplaceTempView('data')\n",
    "query = spark.sql(\"SELECT * from data\")\n",
    "query.show(5)"
   ]
  },
  {
   "cell_type": "code",
   "execution_count": 9,
   "id": "70dad828",
   "metadata": {},
   "outputs": [],
   "source": [
    "#dropping unwanted columns\n",
    "\n",
    "df_d = tweet.drop(\"_id\",\"Tweet ID\",\"Unnamed: 0\",\"Username\",\"hashtags\")"
   ]
  },
  {
   "cell_type": "code",
   "execution_count": 10,
   "id": "fe14fa6e",
   "metadata": {},
   "outputs": [
    {
     "name": "stderr",
     "output_type": "stream",
     "text": [
      "[Stage 2:=============================>                             (1 + 1) / 2]\r"
     ]
    },
    {
     "name": "stdout",
     "output_type": "stream",
     "text": [
      "(291564, 3)\n"
     ]
    },
    {
     "name": "stderr",
     "output_type": "stream",
     "text": [
      "\r",
      "                                                                                \r"
     ]
    },
    {
     "data": {
      "text/plain": [
       "pyspark.sql.dataframe.DataFrame"
      ]
     },
     "execution_count": 10,
     "metadata": {},
     "output_type": "execute_result"
    }
   ],
   "source": [
    "# checking shape of the data\n",
    "\n",
    "print((df_d.count(), len(df_d.columns)))\n",
    "type(df_d)"
   ]
  },
  {
   "cell_type": "code",
   "execution_count": 11,
   "id": "da96b1c4",
   "metadata": {},
   "outputs": [
    {
     "name": "stderr",
     "output_type": "stream",
     "text": [
      "[Stage 4:=============================>                             (1 + 1) / 2]\r"
     ]
    },
    {
     "name": "stdout",
     "output_type": "stream",
     "text": [
      "+----+---+-----+\n",
      "|date| id|tweet|\n",
      "+----+---+-----+\n",
      "|   0|  0|    0|\n",
      "+----+---+-----+\n",
      "\n"
     ]
    },
    {
     "name": "stderr",
     "output_type": "stream",
     "text": [
      "\r",
      "                                                                                \r"
     ]
    }
   ],
   "source": [
    "# checking for missing values\n",
    "\n",
    "df_d.select([count(when(col(c).isNull(), c)).alias(c) for c in df_d.columns]).show(5)"
   ]
  },
  {
   "cell_type": "code",
   "execution_count": 12,
   "id": "e430b023",
   "metadata": {},
   "outputs": [
    {
     "name": "stdout",
     "output_type": "stream",
     "text": [
      "+--------------------+-------------------+--------------------+\n",
      "|                date|                 id|               tweet|\n",
      "+--------------------+-------------------+--------------------+\n",
      "|2022-04-26 23:58:...|1519103774664581121|@alannaheartstay ...|\n",
      "|2022-04-26 23:58:...|1519103554853777408|Yo todavía no sup...|\n",
      "+--------------------+-------------------+--------------------+\n",
      "only showing top 2 rows\n",
      "\n"
     ]
    }
   ],
   "source": [
    "# checking dataframe\n",
    "\n",
    "df_d.show(2)"
   ]
  },
  {
   "cell_type": "code",
   "execution_count": 13,
   "id": "a146910b",
   "metadata": {},
   "outputs": [
    {
     "name": "stdout",
     "output_type": "stream",
     "text": [
      "root\n",
      " |-- date: string (nullable = true)\n",
      " |-- id: long (nullable = true)\n",
      " |-- tweet: string (nullable = true)\n",
      "\n"
     ]
    }
   ],
   "source": [
    "# check datatypes\n",
    "\n",
    "df_d.printSchema()"
   ]
  },
  {
   "cell_type": "code",
   "execution_count": 14,
   "id": "0908ef64",
   "metadata": {},
   "outputs": [],
   "source": [
    "# Converting datatype of datecolumn as timestamp\n",
    "\n",
    "spark_df1 = df_d.withColumn(\"TweetDate\",to_timestamp(\"Date\"))"
   ]
  },
  {
   "cell_type": "code",
   "execution_count": 15,
   "id": "53069f24",
   "metadata": {},
   "outputs": [
    {
     "name": "stdout",
     "output_type": "stream",
     "text": [
      "root\n",
      " |-- date: string (nullable = true)\n",
      " |-- id: long (nullable = true)\n",
      " |-- tweet: string (nullable = true)\n",
      " |-- TweetDate: timestamp (nullable = true)\n",
      "\n"
     ]
    }
   ],
   "source": [
    "spark_df1.printSchema()"
   ]
  },
  {
   "cell_type": "code",
   "execution_count": 16,
   "id": "20399578",
   "metadata": {},
   "outputs": [
    {
     "name": "stdout",
     "output_type": "stream",
     "text": [
      "+-------------------+--------------------+-------------------+\n",
      "|                 id|               tweet|          TweetDate|\n",
      "+-------------------+--------------------+-------------------+\n",
      "|1519103774664581121|@alannaheartstay ...|2022-04-27 00:58:58|\n",
      "|1519103554853777408|Yo todavía no sup...|2022-04-27 00:58:05|\n",
      "+-------------------+--------------------+-------------------+\n",
      "only showing top 2 rows\n",
      "\n"
     ]
    }
   ],
   "source": [
    "# Dropping the old column date from the dataframe\n",
    "\n",
    "df_tweets = spark_df1.drop(\"Date\")\n",
    "df_tweets.show(2)"
   ]
  },
  {
   "cell_type": "code",
   "execution_count": 17,
   "id": "02916da0",
   "metadata": {},
   "outputs": [
    {
     "data": {
      "text/html": [
       "<div>\n",
       "<style scoped>\n",
       "    .dataframe tbody tr th:only-of-type {\n",
       "        vertical-align: middle;\n",
       "    }\n",
       "\n",
       "    .dataframe tbody tr th {\n",
       "        vertical-align: top;\n",
       "    }\n",
       "\n",
       "    .dataframe thead th {\n",
       "        text-align: right;\n",
       "    }\n",
       "</style>\n",
       "<table border=\"1\" class=\"dataframe\">\n",
       "  <thead>\n",
       "    <tr style=\"text-align: right;\">\n",
       "      <th></th>\n",
       "      <th>id</th>\n",
       "      <th>tweet</th>\n",
       "      <th>TweetDate</th>\n",
       "    </tr>\n",
       "  </thead>\n",
       "  <tbody>\n",
       "    <tr>\n",
       "      <th>0</th>\n",
       "      <td>1519103774664581121</td>\n",
       "      <td>@alannaheartstay I hope it comes soon, but @taylorswift13 has a plan and will make it fun for all of us! 😊</td>\n",
       "      <td>2022-04-27 00:58:58</td>\n",
       "    </tr>\n",
       "    <tr>\n",
       "      <th>1</th>\n",
       "      <td>1519103554853777408</td>\n",
       "      <td>Yo todavía no supero Evermore de @taylorswift13</td>\n",
       "      <td>2022-04-27 00:58:05</td>\n",
       "    </tr>\n",
       "    <tr>\n",
       "      <th>2</th>\n",
       "      <td>1519103449576706048</td>\n",
       "      <td>@amanda_zcs @TheSwiftSociety @taylorswift13 @kit_connor QUE AMOR</td>\n",
       "      <td>2022-04-27 00:57:40</td>\n",
       "    </tr>\n",
       "  </tbody>\n",
       "</table>\n",
       "</div>"
      ],
      "text/plain": [
       "                    id  \\\n",
       "0  1519103774664581121   \n",
       "1  1519103554853777408   \n",
       "2  1519103449576706048   \n",
       "\n",
       "                                                                                                        tweet  \\\n",
       "0  @alannaheartstay I hope it comes soon, but @taylorswift13 has a plan and will make it fun for all of us! 😊   \n",
       "1                                                             Yo todavía no supero Evermore de @taylorswift13   \n",
       "2                                            @amanda_zcs @TheSwiftSociety @taylorswift13 @kit_connor QUE AMOR   \n",
       "\n",
       "            TweetDate  \n",
       "0 2022-04-27 00:58:58  \n",
       "1 2022-04-27 00:58:05  \n",
       "2 2022-04-27 00:57:40  "
      ]
     },
     "execution_count": 17,
     "metadata": {},
     "output_type": "execute_result"
    }
   ],
   "source": [
    "# used pandas to read the tweets to get an idea for cleaning tweets\n",
    "\n",
    "pd.options.display.max_columns = None\n",
    "pd.options.display.max_rows = 250\n",
    "pd.options.display.max_colwidth = 150\n",
    "sns.set(color_codes = True)\n",
    "df_tweets.limit(3).toPandas()"
   ]
  },
  {
   "cell_type": "markdown",
   "id": "33bb9a79",
   "metadata": {},
   "source": [
    "#### Text Preprocessing"
   ]
  },
  {
   "cell_type": "code",
   "execution_count": 18,
   "id": "6ace2829",
   "metadata": {},
   "outputs": [],
   "source": [
    "# check to see if a row only contains whitespace\n",
    "def check_blanks(data_str):\n",
    "    is_blank = str(data_str.isspace())\n",
    "    return is_blank"
   ]
  },
  {
   "cell_type": "code",
   "execution_count": 19,
   "id": "8b80930f",
   "metadata": {},
   "outputs": [],
   "source": [
    "def check_lang(data_str):\n",
    "    predict_lang = langid.classify(data_str)\n",
    "    if predict_lang[1] >= .9: \n",
    "        language = predict_lang[0]\n",
    "    else:\n",
    "        language = 'NA'\n",
    "    return language"
   ]
  },
  {
   "cell_type": "code",
   "execution_count": 20,
   "id": "496c4b9c",
   "metadata": {},
   "outputs": [],
   "source": [
    "# Remove features\n",
    "def remove_features(data_str):\n",
    "# compile regex \n",
    "    url_re = re.compile('https?://(www.)?\\w+\\.\\w+(/\\w+) */?')\n",
    "    punc_re = re.compile('[%s]' % re.escape(string.punctuation)) \n",
    "    num_re = re.compile('(\\\\d+)')\n",
    "    mention_re = re.compile('@(\\w+)') \n",
    "    alpha_num_re = re.compile(\"^[a-z0-9_.]+$\")\n",
    "\n",
    "# convert to lowercase\n",
    "    data_str = data_str.lower()\n",
    "# remove hyperlinks\n",
    "    data_str = url_re.sub(' ', data_str)\n",
    "# remove @mentions\n",
    "    data_str = mention_re.sub(' ', data_str)\n",
    "# remove puncuation\n",
    "    data_str = punc_re.sub(' ', data_str) \n",
    "# remove numeric 'words'\n",
    "    data_str = num_re.sub(' ', data_str)\n",
    "# remove non a-z 0-9 characters and words shorter than 3 characters\n",
    "    list_pos = 0\n",
    "    cleaned_str = ''\n",
    "    for word in data_str.split():\n",
    "        if list_pos == 0:\n",
    "            if alpha_num_re.match(word) and len(word) > 2: \n",
    "                cleaned_str = word\n",
    "            else:\n",
    "                cleaned_str = ' '\n",
    "        else:\n",
    "            if alpha_num_re.match(word) and len(word) > 2: \n",
    "                cleaned_str = cleaned_str + ' ' + word\n",
    "            else:\n",
    "                cleaned_str += ' '\n",
    "            list_pos += 1\n",
    "        return cleaned_str"
   ]
  },
  {
   "cell_type": "code",
   "execution_count": 21,
   "id": "4b05206d",
   "metadata": {},
   "outputs": [],
   "source": [
    "# Function to clean tweets(remove URL,users,punctuation,number,hashtag)\n",
    "\n",
    "def cleanTweet(tweet: str) -> str:\n",
    "    \n",
    "    # remove URL\n",
    "    tweet = re.sub(r'http\\S+', '', str(tweet))\n",
    "    tweet = re.sub(r'bit.ly/\\S+', '', str(tweet))\n",
    "    tweet = tweet.strip('[link]')\n",
    "\n",
    "    # remove users\n",
    "    tweet = re.sub('(RT\\s@[A-Za-z]+[A-Za-z0-9-_]+)', '', str(tweet))\n",
    "    tweet = re.sub('(@[A-Za-z]+[A-Za-z0-9-_]+)', '', str(tweet))\n",
    "\n",
    "    # remove punctuation\n",
    "    my_punctuation = '!\"$%&\\'()*+,-./:;<=>?[\\\\]^_`{|}~•@â'\n",
    "    tweet = re.sub('[' + my_punctuation + ']+', ' ', str(tweet))\n",
    "\n",
    "    # remove number\n",
    "    tweet = re.sub('([0-9]+)', '', str(tweet))\n",
    "\n",
    "    # remove hashtag\n",
    "    tweet = re.sub('(#[A-Za-z]+[A-Za-z0-9-_]+)', '', str(tweet))\n",
    "\n",
    "    return tweet"
   ]
  },
  {
   "cell_type": "code",
   "execution_count": 22,
   "id": "b9ffaad2",
   "metadata": {},
   "outputs": [],
   "source": [
    "# removes stop words\n",
    "def remove_stops(data_str):\n",
    "# expects a string \n",
    "    stops = set(stopwords.words(\"english\")) \n",
    "    list_pos = 0\n",
    "    cleaned_str = ''\n",
    "    text = data_str.split()\n",
    "    for word in text:\n",
    "        if word not in stops:\n",
    "# rebuild cleaned_str \n",
    "            if list_pos == 0: \n",
    "                cleaned_str = word\n",
    "            else:\n",
    "                cleaned_str = cleaned_str + ' ' + word \n",
    "            list_pos += 1\n",
    "        return cleaned_str"
   ]
  },
  {
   "cell_type": "code",
   "execution_count": 23,
   "id": "d8001aa4",
   "metadata": {},
   "outputs": [],
   "source": [
    "#tagging text\n",
    "def tag_and_remove(data_str):\n",
    "    cleaned_str = ' '\n",
    "# noun tags\n",
    "    nn_tags = ['NN', 'NNP', 'NNP', 'NNPS', 'NNS']\n",
    "# adjectives\n",
    "    jj_tags = ['JJ', 'JJR', 'JJS']\n",
    "# verbs\n",
    "    vb_tags = ['VB', 'VBD', 'VBG', 'VBN', 'VBP', 'VBZ'] \n",
    "    nltk_tags = nn_tags + jj_tags + vb_tags\n",
    "# break string into 'words'\n",
    "    text = data_str.split()\n",
    "# tag the text and keep only those with the right tags\n",
    "    tagged_text = pos_tag(text)\n",
    "    for tagged_word in tagged_text:\n",
    "        if tagged_word[1] in nltk_tags:\n",
    "            cleaned_str += tagged_word[0] + ' '\n",
    "    return cleaned_str\n",
    "\n"
   ]
  },
  {
   "cell_type": "code",
   "execution_count": 24,
   "id": "c86b10a9",
   "metadata": {},
   "outputs": [],
   "source": [
    "# selecting dataframe\n",
    "df_clean = df_tweets.select(\"Tweet\",\"TweetDate\")\n",
    "\n",
    "# call function cleantweet\n",
    "clean_tweets = F.udf(cleanTweet, StringType())\n",
    "\n",
    "#create new column with cleaned tweets\n",
    "cleaned_tweets = df_clean.withColumn('CleanedTweets', clean_tweets(col(\"Tweet\")))"
   ]
  },
  {
   "cell_type": "code",
   "execution_count": 25,
   "id": "71143f77",
   "metadata": {},
   "outputs": [
    {
     "name": "stderr",
     "output_type": "stream",
     "text": [
      "                                                                                \r"
     ]
    },
    {
     "data": {
      "text/html": [
       "<div>\n",
       "<style scoped>\n",
       "    .dataframe tbody tr th:only-of-type {\n",
       "        vertical-align: middle;\n",
       "    }\n",
       "\n",
       "    .dataframe tbody tr th {\n",
       "        vertical-align: top;\n",
       "    }\n",
       "\n",
       "    .dataframe thead th {\n",
       "        text-align: right;\n",
       "    }\n",
       "</style>\n",
       "<table border=\"1\" class=\"dataframe\">\n",
       "  <thead>\n",
       "    <tr style=\"text-align: right;\">\n",
       "      <th></th>\n",
       "      <th>Tweet</th>\n",
       "      <th>TweetDate</th>\n",
       "      <th>CleanedTweets</th>\n",
       "    </tr>\n",
       "  </thead>\n",
       "  <tbody>\n",
       "    <tr>\n",
       "      <th>0</th>\n",
       "      <td>@alannaheartstay I hope it comes soon, but @taylorswift13 has a plan and will make it fun for all of us! 😊</td>\n",
       "      <td>2022-04-27 00:58:58</td>\n",
       "      <td>I hope it comes soon  but  has a plan and will make it fun for all of us  😊</td>\n",
       "    </tr>\n",
       "    <tr>\n",
       "      <th>1</th>\n",
       "      <td>Yo todavía no supero Evermore de @taylorswift13</td>\n",
       "      <td>2022-04-27 00:58:05</td>\n",
       "      <td>Yo todavía no supero Evermore de</td>\n",
       "    </tr>\n",
       "    <tr>\n",
       "      <th>2</th>\n",
       "      <td>@amanda_zcs @TheSwiftSociety @taylorswift13 @kit_connor QUE AMOR</td>\n",
       "      <td>2022-04-27 00:57:40</td>\n",
       "      <td>QUE AMOR</td>\n",
       "    </tr>\n",
       "    <tr>\n",
       "      <th>3</th>\n",
       "      <td>@taylorswift13 u heard the people drop one 1989 vault track bc ik one of them HAS to be the summer bop https://t.co/Cu2bxcQdmP</td>\n",
       "      <td>2022-04-27 00:57:30</td>\n",
       "      <td>u heard the people drop one  vault track bc ik one of them HAS to be the summer bop</td>\n",
       "    </tr>\n",
       "    <tr>\n",
       "      <th>4</th>\n",
       "      <td>@katievibesonly @taylorswift13 @taylornation13 Right??</td>\n",
       "      <td>2022-04-27 00:55:56</td>\n",
       "      <td>Right</td>\n",
       "    </tr>\n",
       "  </tbody>\n",
       "</table>\n",
       "</div>"
      ],
      "text/plain": [
       "                                                                                                                            Tweet  \\\n",
       "0                      @alannaheartstay I hope it comes soon, but @taylorswift13 has a plan and will make it fun for all of us! 😊   \n",
       "1                                                                                 Yo todavía no supero Evermore de @taylorswift13   \n",
       "2                                                                @amanda_zcs @TheSwiftSociety @taylorswift13 @kit_connor QUE AMOR   \n",
       "3  @taylorswift13 u heard the people drop one 1989 vault track bc ik one of them HAS to be the summer bop https://t.co/Cu2bxcQdmP   \n",
       "4                                                                          @katievibesonly @taylorswift13 @taylornation13 Right??   \n",
       "\n",
       "            TweetDate  \\\n",
       "0 2022-04-27 00:58:58   \n",
       "1 2022-04-27 00:58:05   \n",
       "2 2022-04-27 00:57:40   \n",
       "3 2022-04-27 00:57:30   \n",
       "4 2022-04-27 00:55:56   \n",
       "\n",
       "                                                                           CleanedTweets  \n",
       "0            I hope it comes soon  but  has a plan and will make it fun for all of us  😊  \n",
       "1                                                      Yo todavía no supero Evermore de   \n",
       "2                                                                               QUE AMOR  \n",
       "3   u heard the people drop one  vault track bc ik one of them HAS to be the summer bop   \n",
       "4                                                                                 Right   "
      ]
     },
     "execution_count": 25,
     "metadata": {},
     "output_type": "execute_result"
    }
   ],
   "source": [
    "# viewing as a pandas dataframe for a better understanding of cleaned tweets\n",
    "\n",
    "cleaned_tweets.limit(5).toPandas()"
   ]
  },
  {
   "cell_type": "code",
   "execution_count": 26,
   "id": "6b262bd9",
   "metadata": {},
   "outputs": [],
   "source": [
    "# Clean text(To strip emojis and convert text into lowercase)\n",
    "\n",
    "df_clean1 = cleaned_tweets.select('TweetDate', (lower(regexp_replace('CleanedTweets', \"[^a-zA-Z\\\\s]\", \"\")).alias('Text')))"
   ]
  },
  {
   "cell_type": "code",
   "execution_count": 27,
   "id": "217e15a1",
   "metadata": {},
   "outputs": [
    {
     "data": {
      "text/html": [
       "<div>\n",
       "<style scoped>\n",
       "    .dataframe tbody tr th:only-of-type {\n",
       "        vertical-align: middle;\n",
       "    }\n",
       "\n",
       "    .dataframe tbody tr th {\n",
       "        vertical-align: top;\n",
       "    }\n",
       "\n",
       "    .dataframe thead th {\n",
       "        text-align: right;\n",
       "    }\n",
       "</style>\n",
       "<table border=\"1\" class=\"dataframe\">\n",
       "  <thead>\n",
       "    <tr style=\"text-align: right;\">\n",
       "      <th></th>\n",
       "      <th>TweetDate</th>\n",
       "      <th>Text</th>\n",
       "    </tr>\n",
       "  </thead>\n",
       "  <tbody>\n",
       "    <tr>\n",
       "      <th>0</th>\n",
       "      <td>2022-04-27 00:58:58</td>\n",
       "      <td>i hope it comes soon  but  has a plan and will make it fun for all of us</td>\n",
       "    </tr>\n",
       "    <tr>\n",
       "      <th>1</th>\n",
       "      <td>2022-04-27 00:58:05</td>\n",
       "      <td>yo todava no supero evermore de</td>\n",
       "    </tr>\n",
       "  </tbody>\n",
       "</table>\n",
       "</div>"
      ],
      "text/plain": [
       "            TweetDate  \\\n",
       "0 2022-04-27 00:58:58   \n",
       "1 2022-04-27 00:58:05   \n",
       "\n",
       "                                                                          Text  \n",
       "0   i hope it comes soon  but  has a plan and will make it fun for all of us    \n",
       "1                                             yo todava no supero evermore de   "
      ]
     },
     "execution_count": 27,
     "metadata": {},
     "output_type": "execute_result"
    }
   ],
   "source": [
    "# Recheck again\n",
    "\n",
    "df_clean1.limit(2).toPandas()"
   ]
  },
  {
   "cell_type": "code",
   "execution_count": 28,
   "id": "e727dc9d",
   "metadata": {
    "scrolled": true
   },
   "outputs": [
    {
     "name": "stderr",
     "output_type": "stream",
     "text": [
      "[nltk_data] Downloading package vader_lexicon to\n",
      "[nltk_data]     /home/hduser/nltk_data...\n",
      "[nltk_data]   Package vader_lexicon is already up-to-date!\n"
     ]
    }
   ],
   "source": [
    "#Import the lexicon \n",
    "\n",
    "import nltk\n",
    "\n",
    "from nltk.sentiment.vader import SentimentIntensityAnalyzer\n",
    "nltk.downloader.download('vader_lexicon')\n",
    "\n",
    "# Create an instance of SentimentIntensityAnalyzer\n",
    "sent_analyzer = SentimentIntensityAnalyzer()"
   ]
  },
  {
   "cell_type": "code",
   "execution_count": 29,
   "id": "e1a1256c",
   "metadata": {},
   "outputs": [],
   "source": [
    "# Create a function to get the sentimentscore\n",
    "\n",
    "# Create a function to get the Compound score\n",
    "def getSentimentScore(tweetText):\n",
    "    analyzer = SentimentIntensityAnalyzer()\n",
    "    vs = analyzer.polarity_scores(tweetText)\n",
    "    return float(vs['compound'])\n",
    "\n",
    "def getSentiment(score):\n",
    "    return 1 if score > 0 else 0\n",
    "\n",
    "\n",
    "def getSentiment(compoundValue: int) -> str:\n",
    "    if compoundValue < 0:\n",
    "        return 'Negative'\n",
    "    elif compoundValue == 0:\n",
    "        return 'Neutral'\n",
    "    else:\n",
    "        return 'Positive'"
   ]
  },
  {
   "cell_type": "code",
   "execution_count": 30,
   "id": "00d0e1b3",
   "metadata": {},
   "outputs": [
    {
     "name": "stdout",
     "output_type": "stream",
     "text": [
      "+--------------------+\n",
      "|                Text|\n",
      "+--------------------+\n",
      "| i hope it comes ...|\n",
      "|yo todava no supe...|\n",
      "|            que amor|\n",
      "| u heard the peop...|\n",
      "+--------------------+\n",
      "only showing top 4 rows\n",
      "\n"
     ]
    }
   ],
   "source": [
    "#check text column\n",
    "\n",
    "df_text = df_clean1.select(\"Text\").show(4)\n"
   ]
  },
  {
   "cell_type": "code",
   "execution_count": 31,
   "id": "b068046d",
   "metadata": {},
   "outputs": [],
   "source": [
    "# call function to get the sentiment score\n",
    "sentimentscore = F.udf(getSentimentScore, FloatType())\n",
    "\n",
    "# Call function to get the sentiment type\n",
    "sentiment = F.udf(getSentiment, StringType())\n",
    "\n",
    "#creating sentiment score column by passing the text coulmn\n",
    "vader_sentiment_tweets = df_clean1.withColumn(\"sentimentscore\", sentimentscore(col(\"Text\")))\n",
    "\n",
    "#creating sentiment type by passing the sentiment score column\n",
    "sentiment_tweets_vd = vader_sentiment_tweets.withColumn(\"sentiment\", sentiment(col(\"sentimentscore\")))"
   ]
  },
  {
   "cell_type": "code",
   "execution_count": 32,
   "id": "ae440477",
   "metadata": {
    "scrolled": true
   },
   "outputs": [
    {
     "name": "stderr",
     "output_type": "stream",
     "text": [
      "[Stage 12:>                                                         (0 + 1) / 1]\r"
     ]
    },
    {
     "name": "stdout",
     "output_type": "stream",
     "text": [
      "+-------------------+--------------------+--------------+---------+\n",
      "|          TweetDate|                Text|sentimentscore|sentiment|\n",
      "+-------------------+--------------------+--------------+---------+\n",
      "|2022-04-27 00:58:58| i hope it comes ...|        0.7506| Positive|\n",
      "|2022-04-27 00:58:05|yo todava no supe...|        -0.296| Negative|\n",
      "|2022-04-27 00:57:40|            que amor|        0.6124| Positive|\n",
      "|2022-04-27 00:57:30| u heard the peop...|       -0.2732| Negative|\n",
      "|2022-04-27 00:55:56|              right |           0.0|  Neutral|\n",
      "+-------------------+--------------------+--------------+---------+\n",
      "only showing top 5 rows\n",
      "\n"
     ]
    },
    {
     "name": "stderr",
     "output_type": "stream",
     "text": [
      "\r",
      "                                                                                \r"
     ]
    }
   ],
   "source": [
    "sentiment_tweets_vd.show(5)"
   ]
  },
  {
   "cell_type": "code",
   "execution_count": 33,
   "id": "c21514c6",
   "metadata": {},
   "outputs": [
    {
     "name": "stderr",
     "output_type": "stream",
     "text": [
      "                                                                                \r"
     ]
    }
   ],
   "source": [
    "# convert pandas dataframe to create visualisation and analyse the data\n",
    "\n",
    "sentiment_vedar_pd = sentiment_tweets_vd.toPandas()"
   ]
  },
  {
   "cell_type": "code",
   "execution_count": 34,
   "id": "790cef7e",
   "metadata": {},
   "outputs": [
    {
     "data": {
      "text/html": [
       "<div>\n",
       "<style scoped>\n",
       "    .dataframe tbody tr th:only-of-type {\n",
       "        vertical-align: middle;\n",
       "    }\n",
       "\n",
       "    .dataframe tbody tr th {\n",
       "        vertical-align: top;\n",
       "    }\n",
       "\n",
       "    .dataframe thead th {\n",
       "        text-align: right;\n",
       "    }\n",
       "</style>\n",
       "<table border=\"1\" class=\"dataframe\">\n",
       "  <thead>\n",
       "    <tr style=\"text-align: right;\">\n",
       "      <th></th>\n",
       "      <th>TweetDate</th>\n",
       "      <th>Text</th>\n",
       "      <th>sentimentscore</th>\n",
       "      <th>sentiment</th>\n",
       "    </tr>\n",
       "  </thead>\n",
       "  <tbody>\n",
       "    <tr>\n",
       "      <th>0</th>\n",
       "      <td>2022-04-27 00:58:58</td>\n",
       "      <td>i hope it comes soon  but  has a plan and will make it fun for all of us</td>\n",
       "      <td>0.7506</td>\n",
       "      <td>Positive</td>\n",
       "    </tr>\n",
       "    <tr>\n",
       "      <th>1</th>\n",
       "      <td>2022-04-27 00:58:05</td>\n",
       "      <td>yo todava no supero evermore de</td>\n",
       "      <td>-0.2960</td>\n",
       "      <td>Negative</td>\n",
       "    </tr>\n",
       "    <tr>\n",
       "      <th>2</th>\n",
       "      <td>2022-04-27 00:57:40</td>\n",
       "      <td>que amor</td>\n",
       "      <td>0.6124</td>\n",
       "      <td>Positive</td>\n",
       "    </tr>\n",
       "    <tr>\n",
       "      <th>3</th>\n",
       "      <td>2022-04-27 00:57:30</td>\n",
       "      <td>u heard the people drop one  vault track bc ik one of them has to be the summer bop</td>\n",
       "      <td>-0.2732</td>\n",
       "      <td>Negative</td>\n",
       "    </tr>\n",
       "    <tr>\n",
       "      <th>4</th>\n",
       "      <td>2022-04-27 00:55:56</td>\n",
       "      <td>right</td>\n",
       "      <td>0.0000</td>\n",
       "      <td>Neutral</td>\n",
       "    </tr>\n",
       "  </tbody>\n",
       "</table>\n",
       "</div>"
      ],
      "text/plain": [
       "            TweetDate  \\\n",
       "0 2022-04-27 00:58:58   \n",
       "1 2022-04-27 00:58:05   \n",
       "2 2022-04-27 00:57:40   \n",
       "3 2022-04-27 00:57:30   \n",
       "4 2022-04-27 00:55:56   \n",
       "\n",
       "                                                                                    Text  \\\n",
       "0             i hope it comes soon  but  has a plan and will make it fun for all of us     \n",
       "1                                                       yo todava no supero evermore de    \n",
       "2                                                                               que amor   \n",
       "3   u heard the people drop one  vault track bc ik one of them has to be the summer bop    \n",
       "4                                                                                 right    \n",
       "\n",
       "   sentimentscore sentiment  \n",
       "0          0.7506  Positive  \n",
       "1         -0.2960  Negative  \n",
       "2          0.6124  Positive  \n",
       "3         -0.2732  Negative  \n",
       "4          0.0000   Neutral  "
      ]
     },
     "execution_count": 34,
     "metadata": {},
     "output_type": "execute_result"
    }
   ],
   "source": [
    "# check head of the pandas dataframe\n",
    "sentiment_vedar_pd.head(5)"
   ]
  },
  {
   "cell_type": "code",
   "execution_count": 35,
   "id": "c39e01c9",
   "metadata": {},
   "outputs": [],
   "source": [
    "# writing to csv to get dataset for dashboard\n",
    "sentiment_vedar_pd.to_csv(\"tweetprocess.csv\")"
   ]
  },
  {
   "cell_type": "code",
   "execution_count": 36,
   "id": "b0144495",
   "metadata": {},
   "outputs": [
    {
     "data": {
      "text/plain": [
       "<AxesSubplot: xlabel='sentiment', ylabel='count'>"
      ]
     },
     "execution_count": 36,
     "metadata": {},
     "output_type": "execute_result"
    },
    {
     "data": {
      "image/png": "[encoded data removed]",
      "text/plain": [
       "<Figure size 432x288 with 1 Axes>"
      ]
     },
     "metadata": {
      "needs_background": "light"
     },
     "output_type": "display_data"
    }
   ],
   "source": [
    "#Plot barchart to visualise the distributions of sentiment classes\n",
    "\n",
    "sns.set_style('whitegrid')\n",
    "sns.countplot(x='sentiment',data=sentiment_vedar_pd, palette='summer')"
   ]
  },
  {
   "cell_type": "code",
   "execution_count": 37,
   "id": "9afc2f00",
   "metadata": {},
   "outputs": [
    {
     "name": "stderr",
     "output_type": "stream",
     "text": [
      "                                                                                \r"
     ]
    }
   ],
   "source": [
    "# grouping by sentiments to get the counts\n",
    "\n",
    "x = sentiment_tweets_vd.groupby(\"sentiment\").count().toPandas()"
   ]
  },
  {
   "cell_type": "code",
   "execution_count": 38,
   "id": "1c4b6cf8",
   "metadata": {},
   "outputs": [
    {
     "name": "stdout",
     "output_type": "stream",
     "text": [
      "  sentiment   count\n",
      "0  Positive  121357\n",
      "1   Neutral  132810\n",
      "2  Negative   37397\n"
     ]
    }
   ],
   "source": [
    "# print the count of the distributions\n",
    "print(x)"
   ]
  },
  {
   "cell_type": "code",
   "execution_count": 39,
   "id": "c29d1114",
   "metadata": {},
   "outputs": [
    {
     "data": {
      "image/png": "[encoded data removed]",
      "text/plain": [
       "<Figure size 432x288 with 1 Axes>"
      ]
     },
     "metadata": {},
     "output_type": "display_data"
    }
   ],
   "source": [
    "# Plot pie chart for percentage of distributions\n",
    "\n",
    "my_labels = [\"Positive\", \"Neutral\", \"Negative\"]\n",
    "\n",
    "plot = x.plot.pie(y='count', title=\"Reactions of the publin to Taylor Swift,analysing through tweets\", legend=False,  \\\n",
    "                   labels = my_labels, autopct='%1.1f%%', explode=(0, 0, 0), \\\n",
    "                   shadow=True, startangle=0)"
   ]
  },
  {
   "cell_type": "code",
   "execution_count": 40,
   "id": "599310f2",
   "metadata": {},
   "outputs": [
    {
     "data": {
      "image/png": "[encoded data removed]",
      "text/plain": [
       "<Figure size 432x288 with 1 Axes>"
      ]
     },
     "metadata": {
      "needs_background": "light"
     },
     "output_type": "display_data"
    }
   ],
   "source": [
    "# Plot wordcloud\n",
    "\n",
    "from wordcloud import WordCloud\n",
    "#Creating the text variable\n",
    "\n",
    "text2 = \" \".join(title for title in sentiment_vedar_pd.Text)\n",
    "\n",
    "# Creating word_cloud with text as argument in .generate() method\n",
    "\n",
    "word_cloud2 = WordCloud(collocations = False, background_color = 'black', width = 1000, height =1000).generate(text2)\n",
    "\n",
    "# Display the generated Word Cloud\n",
    "\n",
    "plt.imshow(word_cloud2, interpolation='bilinear')\n",
    "\n",
    "plt.axis(\"off\")\n",
    "\n",
    "plt.show()"
   ]
  },
  {
   "cell_type": "code",
   "execution_count": 41,
   "id": "00b1938a",
   "metadata": {},
   "outputs": [],
   "source": [
    "# getting 3 seperate dataframes by taking a subset of the higher number of classes\n",
    "\n",
    "df_Negative = sentiment_vedar_pd[sentiment_vedar_pd['sentiment'] == 'Negative'][0:1385604]\n",
    "df_Neutral = sentiment_vedar_pd[sentiment_vedar_pd['sentiment'] == 'Neutral']\n",
    "df_Positive = sentiment_vedar_pd[sentiment_vedar_pd['sentiment'] == 'Positive']"
   ]
  },
  {
   "cell_type": "code",
   "execution_count": 42,
   "id": "2d2e757b",
   "metadata": {},
   "outputs": [],
   "source": [
    "# applying oversampling to balance the data for distributions\n",
    "\n",
    "df_Neutral_over = df_Neutral.sample(1385604, replace=True)\n",
    "df_Positive_over = df_Positive.sample(1385604, replace=True)\n",
    "\n",
    "# concatinating as a new dataframe with oversampled values to pass into classification model\n",
    "\n",
    "balance_df = pd.concat([df_Negative, df_Neutral_over, df_Positive_over], axis=0)"
   ]
  },
  {
   "cell_type": "code",
   "execution_count": 43,
   "id": "0cc6efa1",
   "metadata": {},
   "outputs": [
    {
     "data": {
      "text/plain": [
       "<AxesSubplot: xlabel='sentiment', ylabel='count'>"
      ]
     },
     "execution_count": 43,
     "metadata": {},
     "output_type": "execute_result"
    },
    {
     "data": {
      "image/png": "[encoded data removed]",
      "text/plain": [
       "<Figure size 432x288 with 1 Axes>"
      ]
     },
     "metadata": {},
     "output_type": "display_data"
    }
   ],
   "source": [
    "# plot after balancing the data\n",
    "\n",
    "sns.set_style('whitegrid')\n",
    "sns.countplot(x='sentiment',data=balance_df, palette='summer')"
   ]
  },
  {
   "cell_type": "code",
   "execution_count": 44,
   "id": "62faf87f",
   "metadata": {},
   "outputs": [],
   "source": [
    "# writing to csv\n",
    "\n",
    "balance_df.to_csv(\"balancedtweets.csv\")"
   ]
  },
  {
   "cell_type": "code",
   "execution_count": 45,
   "id": "445b8ca6",
   "metadata": {},
   "outputs": [],
   "source": [
    "# import the processed balanced tweets into mongoDB\n",
    "\n",
    "# mongoimport --db tweetsdb --collection bigvedartweetcol --type csv --headerline --ignoreBlanks \n",
    "# /--file balancedtweets.csv"
   ]
  },
  {
   "cell_type": "code",
   "execution_count": 46,
   "id": "4634a62a",
   "metadata": {},
   "outputs": [],
   "source": [
    "# Storing preprocessed file into MongoDB\n",
    "#sentiment_tweets.write.format(\"com.mongodb.spark.sql.DefaultSource\").mode(\"append\").option(\"database\",\"tweetsdb\").option(\"collection\", \"tweetcol3\").save()"
   ]
  },
  {
   "cell_type": "code",
   "execution_count": 47,
   "id": "03fb87c2",
   "metadata": {},
   "outputs": [
    {
     "name": "stderr",
     "output_type": "stream",
     "text": [
      "                                                                                \r"
     ]
    }
   ],
   "source": [
    "# reading the processed data from MongoDB for classification model as a sparkdataframe\n",
    "\n",
    "processed_output = spark.read.format(\"com.mongodb.spark.sql.DefaultSource\").option(\"spark.mongodb.input.uri\",\"mongodb://127.0.0.1/tweetsdb.bigvedartweetcol\").load()"
   ]
  },
  {
   "cell_type": "code",
   "execution_count": 48,
   "id": "902b8c09",
   "metadata": {},
   "outputs": [
    {
     "name": "stdout",
     "output_type": "stream",
     "text": [
      "+--------------------+-------------------+--------------------+---------+--------------+\n",
      "|                Text|          TweetDate|                 _id|sentiment|sentimentscore|\n",
      "+--------------------+-------------------+--------------------+---------+--------------+\n",
      "|yo todava no supe...|2022-04-27 00:58:05|{638ce81654625f0f...| Negative|        -0.296|\n",
      "|u heard the peopl...|2022-04-27 00:57:30|{638ce81654625f0f...| Negative|       -0.2732|\n",
      "|and petty means y...|2022-04-27 00:55:30|{638ce81654625f0f...| Negative|       -0.5647|\n",
      "|you werent mine t...|2022-04-27 00:53:11|{638ce81654625f0f...| Negative|       -0.3699|\n",
      "|whatttt theeeeee ...|2022-04-27 00:50:02|{638ce81654625f0f...| Negative|       -0.4019|\n",
      "+--------------------+-------------------+--------------------+---------+--------------+\n",
      "only showing top 5 rows\n",
      "\n"
     ]
    },
    {
     "name": "stderr",
     "output_type": "stream",
     "text": [
      "\r",
      "[Stage 17:>                                                         (0 + 1) / 1]\r",
      "\r",
      "                                                                                \r"
     ]
    }
   ],
   "source": [
    "processed_output.show(5)"
   ]
  },
  {
   "cell_type": "code",
   "execution_count": 49,
   "id": "3f2e8279",
   "metadata": {},
   "outputs": [
    {
     "name": "stdout",
     "output_type": "stream",
     "text": [
      "root\n",
      " |-- Text: string (nullable = true)\n",
      " |-- TweetDate: string (nullable = true)\n",
      " |-- _id: struct (nullable = true)\n",
      " |    |-- oid: string (nullable = true)\n",
      " |-- sentiment: string (nullable = true)\n",
      " |-- sentimentscore: double (nullable = true)\n",
      "\n"
     ]
    }
   ],
   "source": [
    "#chek schema of the processed dataframe\n",
    "\n",
    "processed_output.printSchema()"
   ]
  },
  {
   "cell_type": "code",
   "execution_count": 50,
   "id": "0df7ec31",
   "metadata": {},
   "outputs": [],
   "source": [
    "# Exported the MongoDb Collection to CSV file in shell prompt\n",
    "\n",
    "# mongoexport --host localhost --db tweetsdb --collection tweetcol3 --type=csv --out processed_tweets.csv --fields TweetDate,Text,sentiment,sentimentscore"
   ]
  },
  {
   "cell_type": "code",
   "execution_count": 51,
   "id": "f945608e",
   "metadata": {},
   "outputs": [],
   "source": [
    "#convert tweetdate column datatype as timestamp\n",
    "\n",
    "df_processed_new1 = processed_output.withColumn(\"TweetsDate\",to_timestamp(\"TweetDate\"))"
   ]
  },
  {
   "cell_type": "code",
   "execution_count": 52,
   "id": "c798ac98",
   "metadata": {},
   "outputs": [
    {
     "name": "stderr",
     "output_type": "stream",
     "text": [
      "\r",
      "[Stage 18:>                                                         (0 + 1) / 1]\r"
     ]
    },
    {
     "name": "stdout",
     "output_type": "stream",
     "text": [
      "+--------------------+--------------------+---------+--------------+-------------------+\n",
      "|                Text|                 _id|sentiment|sentimentscore|         TweetsDate|\n",
      "+--------------------+--------------------+---------+--------------+-------------------+\n",
      "|yo todava no supe...|{638ce81654625f0f...| Negative|        -0.296|2022-04-27 00:58:05|\n",
      "|u heard the peopl...|{638ce81654625f0f...| Negative|       -0.2732|2022-04-27 00:57:30|\n",
      "+--------------------+--------------------+---------+--------------+-------------------+\n",
      "only showing top 2 rows\n",
      "\n"
     ]
    },
    {
     "name": "stderr",
     "output_type": "stream",
     "text": [
      "\r",
      "                                                                                \r"
     ]
    }
   ],
   "source": [
    "# drop old column Tweetdate\n",
    "\n",
    "df_processed_new1 = df_processed_new1.drop(\"TweetDate\")\n",
    "df_processed_new1.show(2)"
   ]
  },
  {
   "cell_type": "code",
   "execution_count": 53,
   "id": "71766236",
   "metadata": {},
   "outputs": [
    {
     "name": "stdout",
     "output_type": "stream",
     "text": [
      "root\n",
      " |-- Text: string (nullable = true)\n",
      " |-- _id: struct (nullable = true)\n",
      " |    |-- oid: string (nullable = true)\n",
      " |-- sentiment: string (nullable = true)\n",
      " |-- sentimentscore: double (nullable = true)\n",
      " |-- TweetsDate: timestamp (nullable = true)\n",
      "\n"
     ]
    }
   ],
   "source": [
    "#Check schema again after converting datatype\n",
    "\n",
    "df_processed_new1.printSchema()"
   ]
  },
  {
   "cell_type": "code",
   "execution_count": 54,
   "id": "3e0e531c",
   "metadata": {},
   "outputs": [
    {
     "name": "stderr",
     "output_type": "stream",
     "text": [
      "                                                                                \r"
     ]
    },
    {
     "name": "stdout",
     "output_type": "stream",
     "text": [
      "+--------------------+--------------------+---------+--------------+-------------------+-----------------+\n",
      "|                Text|                 _id|sentiment|sentimentscore|         TweetsDate|sentiment_numeric|\n",
      "+--------------------+--------------------+---------+--------------+-------------------+-----------------+\n",
      "|yo todava no supe...|{638ce81654625f0f...| Negative|        -0.296|2022-04-27 00:58:05|              2.0|\n",
      "|u heard the peopl...|{638ce81654625f0f...| Negative|       -0.2732|2022-04-27 00:57:30|              2.0|\n",
      "|and petty means y...|{638ce81654625f0f...| Negative|       -0.5647|2022-04-27 00:55:30|              2.0|\n",
      "|you werent mine t...|{638ce81654625f0f...| Negative|       -0.3699|2022-04-27 00:53:11|              2.0|\n",
      "|whatttt theeeeee ...|{638ce81654625f0f...| Negative|       -0.4019|2022-04-27 00:50:02|              2.0|\n",
      "+--------------------+--------------------+---------+--------------+-------------------+-----------------+\n",
      "only showing top 5 rows\n",
      "\n"
     ]
    }
   ],
   "source": [
    "# converting sentiment type into numeric to feed into model like pandas one hot encoding\n",
    "\n",
    "indexer = StringIndexer(inputCol='sentiment', outputCol='sentiment_numeric').fit(df_processed_new1)\n",
    "indexed_df = indexer.transform(df_processed_new1)\n",
    "indexed_df.show(5)"
   ]
  },
  {
   "cell_type": "code",
   "execution_count": 55,
   "id": "9b2b820e",
   "metadata": {},
   "outputs": [
    {
     "name": "stdout",
     "output_type": "stream",
     "text": [
      "root\n",
      " |-- Text: string (nullable = true)\n",
      " |-- _id: struct (nullable = true)\n",
      " |    |-- oid: string (nullable = true)\n",
      " |-- sentiment: string (nullable = true)\n",
      " |-- sentimentscore: double (nullable = true)\n",
      " |-- TweetsDate: timestamp (nullable = true)\n",
      " |-- sentiment_numeric: double (nullable = false)\n",
      "\n"
     ]
    }
   ],
   "source": [
    "# check schema after transformation\n",
    "\n",
    "indexed_df.printSchema()"
   ]
  },
  {
   "cell_type": "code",
   "execution_count": 56,
   "id": "10f96469",
   "metadata": {},
   "outputs": [],
   "source": [
    "# Renaming sentiment numeric column as label\n",
    "\n",
    "df2 = indexed_df.select(\"Text\",\"sentiment_numeric\")\\\n",
    "        .withColumnRenamed(\"sentiment_numeric\", \"label\")"
   ]
  },
  {
   "cell_type": "code",
   "execution_count": 57,
   "id": "ace9224b",
   "metadata": {},
   "outputs": [
    {
     "name": "stdout",
     "output_type": "stream",
     "text": [
      "root\n",
      " |-- Text: string (nullable = true)\n",
      " |-- label: double (nullable = false)\n",
      "\n"
     ]
    }
   ],
   "source": [
    "df2.printSchema()"
   ]
  },
  {
   "cell_type": "code",
   "execution_count": 58,
   "id": "a31464c7",
   "metadata": {},
   "outputs": [
    {
     "name": "stdout",
     "output_type": "stream",
     "text": [
      "+--------------------+-----+\n",
      "|                Text|label|\n",
      "+--------------------+-----+\n",
      "|yo todava no supe...|  2.0|\n",
      "|u heard the peopl...|  2.0|\n",
      "|and petty means y...|  2.0|\n",
      "|you werent mine t...|  2.0|\n",
      "|whatttt theeeeee ...|  2.0|\n",
      "+--------------------+-----+\n",
      "only showing top 5 rows\n",
      "\n"
     ]
    }
   ],
   "source": [
    "df2.show(5)"
   ]
  },
  {
   "cell_type": "code",
   "execution_count": 59,
   "id": "0dcfafe3",
   "metadata": {},
   "outputs": [],
   "source": [
    "df3 = df2.na.drop()"
   ]
  },
  {
   "cell_type": "code",
   "execution_count": 60,
   "id": "8bc582ca",
   "metadata": {},
   "outputs": [],
   "source": [
    "# Train test split(70% train, 30% test)\n",
    "\n",
    "train_df,test_df = df3.randomSplit([0.7, 0.3], 24)"
   ]
  },
  {
   "cell_type": "code",
   "execution_count": 61,
   "id": "40ef169d",
   "metadata": {},
   "outputs": [],
   "source": [
    "# importing requierd libraries\n",
    "\n",
    "import nltk\n",
    "#print(nltk.__version__)\n",
    "from nltk.stem.porter import PorterStemmer\n",
    "from nltk.stem import WordNetLemmatizer\n",
    "\n",
    "from nltk.stem.porter import PorterStemmer\n",
    "from nltk.stem import WordNetLemmatizer\n",
    "from nltk.corpus import wordnet\n",
    "from nltk.stem import SnowballStemmer\n",
    "from pyspark.ml.feature import Tokenizer, HashingTF, IDF\n",
    "\n",
    "lemmatizer = WordNetLemmatizer()  \n"
   ]
  },
  {
   "cell_type": "code",
   "execution_count": 62,
   "id": "7743d618",
   "metadata": {},
   "outputs": [],
   "source": [
    "# create tokens from tweets\n",
    "tokenizer = Tokenizer(inputCol=\"Text\", outputCol=\"words1\")\n",
    "\n",
    "# Removing Stopwords from tweets\n",
    "stopwords_remover = StopWordsRemover(\n",
    "    inputCol=\"words1\",\n",
    "    outputCol=\"words2\",\n",
    "    stopWords=StopWordsRemover.loadDefaultStopWords(\"english\")\n",
    ")\n",
    "\n",
    "\n",
    "# create term frequencies for each of the tokens\n",
    "hashing_tf = HashingTF(\n",
    "    inputCol=\"words2\",\n",
    "    outputCol=\"term_frequency\",\n",
    ")\n",
    "\n",
    "# create tf-idf for each of the tokens\n",
    "idf = IDF(\n",
    "    inputCol=\"term_frequency\",\n",
    "    outputCol=\"features\",\n",
    "    minDocFreq=5,\n",
    ")                    "
   ]
  },
  {
   "cell_type": "code",
   "execution_count": 63,
   "id": "ed5e72ef",
   "metadata": {},
   "outputs": [
    {
     "name": "stdout",
     "output_type": "stream",
     "text": [
      "+--------------------+-----+\n",
      "|                Text|label|\n",
      "+--------------------+-----+\n",
      "|\n",
      "\n",
      "i have a broken...|  2.0|\n",
      "|\n",
      "by\n",
      " ft \n",
      "\n",
      " transc...|  2.0|\n",
      "|\n",
      "estos das no pue...|  2.0|\n",
      "|\n",
      "i didnt notice t...|  2.0|\n",
      "|\n",
      "slowly we lose o...|  2.0|\n",
      "+--------------------+-----+\n",
      "only showing top 5 rows\n",
      "\n"
     ]
    }
   ],
   "source": [
    "#train_df.limit(5).toPandas()\n",
    "train_df.show(5)"
   ]
  },
  {
   "cell_type": "code",
   "execution_count": 64,
   "id": "fb3f1054",
   "metadata": {},
   "outputs": [
    {
     "name": "stderr",
     "output_type": "stream",
     "text": [
      "2022-12-04 23:34:57,583 WARN scheduler.DAGScheduler: Broadcasting large task binary with size 4.1 MiB\n",
      "2022-12-04 23:36:06,745 WARN scheduler.DAGScheduler: Broadcasting large task binary with size 4.1 MiB\n",
      "2022-12-04 23:36:07,653 WARN scheduler.DAGScheduler: Broadcasting large task binary with size 4.1 MiB\n",
      "2022-12-04 23:36:10,872 WARN netlib.BLAS: Failed to load implementation from: com.github.fommil.netlib.NativeSystemBLAS\n",
      "2022-12-04 23:36:10,873 WARN netlib.BLAS: Failed to load implementation from: com.github.fommil.netlib.NativeRefBLAS\n",
      "2022-12-04 23:38:03,790 WARN scheduler.DAGScheduler: Broadcasting large task binary with size 4.1 MiB\n",
      "2022-12-04 23:38:04,900 WARN scheduler.DAGScheduler: Broadcasting large task binary with size 4.1 MiB\n",
      "2022-12-04 23:38:11,664 WARN scheduler.DAGScheduler: Broadcasting large task binary with size 4.1 MiB\n",
      "2022-12-04 23:38:12,689 WARN scheduler.DAGScheduler: Broadcasting large task binary with size 4.1 MiB\n",
      "2022-12-04 23:38:20,212 WARN scheduler.DAGScheduler: Broadcasting large task binary with size 4.1 MiB\n",
      "2022-12-04 23:38:21,256 WARN scheduler.DAGScheduler: Broadcasting large task binary with size 4.1 MiB\n",
      "2022-12-04 23:38:26,127 WARN scheduler.DAGScheduler: Broadcasting large task binary with size 4.1 MiB\n",
      "2022-12-04 23:38:27,260 WARN scheduler.DAGScheduler: Broadcasting large task binary with size 4.1 MiB\n",
      "2022-12-04 23:38:31,576 WARN scheduler.DAGScheduler: Broadcasting large task binary with size 4.1 MiB\n",
      "2022-12-04 23:38:32,148 WARN scheduler.DAGScheduler: Broadcasting large task binary with size 4.1 MiB\n",
      "2022-12-04 23:38:36,346 WARN scheduler.DAGScheduler: Broadcasting large task binary with size 4.1 MiB\n",
      "2022-12-04 23:38:37,148 WARN scheduler.DAGScheduler: Broadcasting large task binary with size 4.1 MiB\n",
      "2022-12-04 23:38:41,232 WARN scheduler.DAGScheduler: Broadcasting large task binary with size 4.1 MiB\n",
      "2022-12-04 23:38:41,804 WARN scheduler.DAGScheduler: Broadcasting large task binary with size 4.1 MiB\n",
      "2022-12-04 23:38:46,003 WARN scheduler.DAGScheduler: Broadcasting large task binary with size 4.1 MiB\n",
      "2022-12-04 23:38:46,727 WARN scheduler.DAGScheduler: Broadcasting large task binary with size 4.1 MiB\n",
      "2022-12-04 23:38:51,926 WARN scheduler.DAGScheduler: Broadcasting large task binary with size 4.1 MiB\n",
      "2022-12-04 23:38:52,504 WARN scheduler.DAGScheduler: Broadcasting large task binary with size 4.1 MiB\n",
      "2022-12-04 23:38:57,097 WARN scheduler.DAGScheduler: Broadcasting large task binary with size 4.1 MiB\n",
      "2022-12-04 23:38:57,680 WARN scheduler.DAGScheduler: Broadcasting large task binary with size 4.1 MiB\n",
      "2022-12-04 23:39:02,337 WARN scheduler.DAGScheduler: Broadcasting large task binary with size 4.1 MiB\n",
      "2022-12-04 23:39:02,945 WARN scheduler.DAGScheduler: Broadcasting large task binary with size 4.1 MiB\n",
      "2022-12-04 23:39:06,883 WARN scheduler.DAGScheduler: Broadcasting large task binary with size 4.1 MiB\n",
      "2022-12-04 23:39:07,429 WARN scheduler.DAGScheduler: Broadcasting large task binary with size 4.1 MiB\n",
      "2022-12-04 23:39:11,579 WARN scheduler.DAGScheduler: Broadcasting large task binary with size 4.1 MiB\n",
      "2022-12-04 23:39:12,352 WARN scheduler.DAGScheduler: Broadcasting large task binary with size 4.1 MiB\n",
      "2022-12-04 23:39:17,032 WARN scheduler.DAGScheduler: Broadcasting large task binary with size 4.1 MiB\n",
      "2022-12-04 23:39:17,706 WARN scheduler.DAGScheduler: Broadcasting large task binary with size 4.1 MiB\n",
      "2022-12-04 23:39:23,445 WARN scheduler.DAGScheduler: Broadcasting large task binary with size 4.1 MiB\n",
      "2022-12-04 23:39:24,123 WARN scheduler.DAGScheduler: Broadcasting large task binary with size 4.1 MiB\n",
      "2022-12-04 23:39:28,975 WARN scheduler.DAGScheduler: Broadcasting large task binary with size 4.1 MiB\n",
      "2022-12-04 23:39:29,641 WARN scheduler.DAGScheduler: Broadcasting large task binary with size 4.1 MiB\n",
      "2022-12-04 23:39:33,653 WARN scheduler.DAGScheduler: Broadcasting large task binary with size 4.1 MiB\n",
      "2022-12-04 23:39:34,211 WARN scheduler.DAGScheduler: Broadcasting large task binary with size 4.1 MiB\n",
      "2022-12-04 23:39:39,331 WARN scheduler.DAGScheduler: Broadcasting large task binary with size 4.1 MiB\n",
      "2022-12-04 23:39:39,910 WARN scheduler.DAGScheduler: Broadcasting large task binary with size 4.1 MiB\n",
      "2022-12-04 23:39:44,351 WARN scheduler.DAGScheduler: Broadcasting large task binary with size 4.1 MiB\n",
      "2022-12-04 23:39:44,903 WARN scheduler.DAGScheduler: Broadcasting large task binary with size 4.1 MiB\n",
      "2022-12-04 23:39:49,545 WARN scheduler.DAGScheduler: Broadcasting large task binary with size 4.1 MiB\n",
      "2022-12-04 23:39:50,145 WARN scheduler.DAGScheduler: Broadcasting large task binary with size 4.1 MiB\n",
      "2022-12-04 23:39:54,856 WARN scheduler.DAGScheduler: Broadcasting large task binary with size 4.1 MiB\n",
      "2022-12-04 23:39:55,578 WARN scheduler.DAGScheduler: Broadcasting large task binary with size 4.1 MiB\n",
      "2022-12-04 23:39:59,817 WARN scheduler.DAGScheduler: Broadcasting large task binary with size 4.1 MiB\n",
      "2022-12-04 23:40:00,421 WARN scheduler.DAGScheduler: Broadcasting large task binary with size 4.1 MiB\n",
      "2022-12-04 23:40:05,575 WARN scheduler.DAGScheduler: Broadcasting large task binary with size 4.1 MiB\n",
      "2022-12-04 23:40:06,147 WARN scheduler.DAGScheduler: Broadcasting large task binary with size 4.1 MiB\n",
      "2022-12-04 23:40:10,913 WARN scheduler.DAGScheduler: Broadcasting large task binary with size 4.1 MiB\n",
      "2022-12-04 23:40:11,882 WARN scheduler.DAGScheduler: Broadcasting large task binary with size 4.1 MiB\n",
      "2022-12-04 23:40:17,252 WARN scheduler.DAGScheduler: Broadcasting large task binary with size 4.1 MiB\n",
      "2022-12-04 23:40:17,940 WARN scheduler.DAGScheduler: Broadcasting large task binary with size 4.1 MiB\n",
      "2022-12-04 23:40:23,106 WARN scheduler.DAGScheduler: Broadcasting large task binary with size 4.1 MiB\n",
      "2022-12-04 23:40:24,430 WARN scheduler.DAGScheduler: Broadcasting large task binary with size 4.1 MiB\n",
      "2022-12-04 23:40:32,140 WARN scheduler.DAGScheduler: Broadcasting large task binary with size 4.1 MiB\n",
      "2022-12-04 23:40:34,569 WARN scheduler.DAGScheduler: Broadcasting large task binary with size 4.1 MiB\n",
      "2022-12-04 23:40:40,333 WARN scheduler.DAGScheduler: Broadcasting large task binary with size 4.1 MiB\n",
      "2022-12-04 23:40:41,895 WARN scheduler.DAGScheduler: Broadcasting large task binary with size 4.1 MiB\n",
      "2022-12-04 23:40:48,593 WARN scheduler.DAGScheduler: Broadcasting large task binary with size 4.1 MiB\n",
      "2022-12-04 23:40:49,294 WARN scheduler.DAGScheduler: Broadcasting large task binary with size 4.1 MiB\n",
      "2022-12-04 23:40:53,326 WARN scheduler.DAGScheduler: Broadcasting large task binary with size 4.1 MiB\n",
      "2022-12-04 23:40:54,214 WARN scheduler.DAGScheduler: Broadcasting large task binary with size 4.1 MiB\n",
      "2022-12-04 23:40:58,184 WARN scheduler.DAGScheduler: Broadcasting large task binary with size 4.1 MiB\n",
      "2022-12-04 23:40:58,716 WARN scheduler.DAGScheduler: Broadcasting large task binary with size 4.1 MiB\n",
      "2022-12-04 23:41:01,904 WARN scheduler.DAGScheduler: Broadcasting large task binary with size 4.1 MiB\n",
      "2022-12-04 23:41:02,647 WARN scheduler.DAGScheduler: Broadcasting large task binary with size 4.1 MiB\n",
      "2022-12-04 23:41:06,061 WARN scheduler.DAGScheduler: Broadcasting large task binary with size 4.1 MiB\n",
      "2022-12-04 23:41:06,572 WARN scheduler.DAGScheduler: Broadcasting large task binary with size 4.1 MiB\n",
      "2022-12-04 23:41:10,335 WARN scheduler.DAGScheduler: Broadcasting large task binary with size 4.1 MiB\n",
      "2022-12-04 23:41:12,457 WARN scheduler.DAGScheduler: Broadcasting large task binary with size 4.1 MiB\n",
      "2022-12-04 23:41:18,991 WARN scheduler.DAGScheduler: Broadcasting large task binary with size 4.1 MiB\n",
      "2022-12-04 23:41:20,397 WARN scheduler.DAGScheduler: Broadcasting large task binary with size 4.1 MiB\n",
      "2022-12-04 23:41:27,953 WARN scheduler.DAGScheduler: Broadcasting large task binary with size 4.1 MiB\n",
      "2022-12-04 23:41:29,117 WARN scheduler.DAGScheduler: Broadcasting large task binary with size 4.1 MiB\n",
      "2022-12-04 23:41:36,260 WARN scheduler.DAGScheduler: Broadcasting large task binary with size 4.1 MiB\n",
      "2022-12-04 23:41:37,491 WARN scheduler.DAGScheduler: Broadcasting large task binary with size 4.1 MiB\n",
      "2022-12-04 23:41:41,546 WARN scheduler.DAGScheduler: Broadcasting large task binary with size 4.1 MiB\n"
     ]
    },
    {
     "name": "stderr",
     "output_type": "stream",
     "text": [
      "2022-12-04 23:41:42,165 WARN scheduler.DAGScheduler: Broadcasting large task binary with size 4.1 MiB\n",
      "2022-12-04 23:41:47,819 WARN scheduler.DAGScheduler: Broadcasting large task binary with size 4.1 MiB\n",
      "2022-12-04 23:41:48,668 WARN scheduler.DAGScheduler: Broadcasting large task binary with size 4.1 MiB\n",
      "2022-12-04 23:41:53,027 WARN scheduler.DAGScheduler: Broadcasting large task binary with size 4.1 MiB\n",
      "2022-12-04 23:41:53,677 WARN scheduler.DAGScheduler: Broadcasting large task binary with size 4.1 MiB\n",
      "2022-12-04 23:41:57,755 WARN scheduler.DAGScheduler: Broadcasting large task binary with size 4.1 MiB\n",
      "2022-12-04 23:41:58,338 WARN scheduler.DAGScheduler: Broadcasting large task binary with size 4.1 MiB\n",
      "2022-12-04 23:42:02,523 WARN scheduler.DAGScheduler: Broadcasting large task binary with size 4.1 MiB\n",
      "2022-12-04 23:42:03,099 WARN scheduler.DAGScheduler: Broadcasting large task binary with size 4.1 MiB\n",
      "2022-12-04 23:42:06,744 WARN scheduler.DAGScheduler: Broadcasting large task binary with size 4.1 MiB\n",
      "2022-12-04 23:42:07,384 WARN scheduler.DAGScheduler: Broadcasting large task binary with size 4.1 MiB\n",
      "2022-12-04 23:42:12,150 WARN scheduler.DAGScheduler: Broadcasting large task binary with size 4.1 MiB\n",
      "2022-12-04 23:42:12,844 WARN scheduler.DAGScheduler: Broadcasting large task binary with size 4.1 MiB\n",
      "2022-12-04 23:42:17,075 WARN scheduler.DAGScheduler: Broadcasting large task binary with size 4.1 MiB\n",
      "2022-12-04 23:42:17,833 WARN scheduler.DAGScheduler: Broadcasting large task binary with size 4.1 MiB\n",
      "2022-12-04 23:42:22,418 WARN scheduler.DAGScheduler: Broadcasting large task binary with size 4.1 MiB\n",
      "2022-12-04 23:42:23,142 WARN scheduler.DAGScheduler: Broadcasting large task binary with size 4.1 MiB\n",
      "2022-12-04 23:42:27,866 WARN scheduler.DAGScheduler: Broadcasting large task binary with size 4.1 MiB\n",
      "2022-12-04 23:42:28,541 WARN scheduler.DAGScheduler: Broadcasting large task binary with size 4.1 MiB\n",
      "2022-12-04 23:42:32,613 WARN scheduler.DAGScheduler: Broadcasting large task binary with size 4.1 MiB\n",
      "2022-12-04 23:42:33,278 WARN scheduler.DAGScheduler: Broadcasting large task binary with size 4.1 MiB\n",
      "2022-12-04 23:42:37,557 WARN scheduler.DAGScheduler: Broadcasting large task binary with size 4.1 MiB\n",
      "2022-12-04 23:42:38,217 WARN scheduler.DAGScheduler: Broadcasting large task binary with size 4.1 MiB\n",
      "2022-12-04 23:42:45,326 WARN scheduler.DAGScheduler: Broadcasting large task binary with size 4.1 MiB\n",
      "2022-12-04 23:42:46,724 WARN scheduler.DAGScheduler: Broadcasting large task binary with size 4.1 MiB\n",
      "2022-12-04 23:42:53,486 WARN scheduler.DAGScheduler: Broadcasting large task binary with size 4.1 MiB\n",
      "2022-12-04 23:42:54,485 WARN scheduler.DAGScheduler: Broadcasting large task binary with size 4.1 MiB\n",
      "2022-12-04 23:43:01,097 WARN scheduler.DAGScheduler: Broadcasting large task binary with size 4.1 MiB\n",
      "2022-12-04 23:43:01,752 WARN scheduler.DAGScheduler: Broadcasting large task binary with size 4.1 MiB\n",
      "2022-12-04 23:43:06,559 WARN scheduler.DAGScheduler: Broadcasting large task binary with size 4.1 MiB\n",
      "2022-12-04 23:43:07,187 WARN scheduler.DAGScheduler: Broadcasting large task binary with size 4.1 MiB\n",
      "2022-12-04 23:43:11,962 WARN scheduler.DAGScheduler: Broadcasting large task binary with size 4.1 MiB\n",
      "2022-12-04 23:43:13,912 WARN scheduler.DAGScheduler: Broadcasting large task binary with size 4.1 MiB\n",
      "2022-12-04 23:43:20,339 WARN scheduler.DAGScheduler: Broadcasting large task binary with size 4.1 MiB\n",
      "2022-12-04 23:43:20,904 WARN scheduler.DAGScheduler: Broadcasting large task binary with size 4.1 MiB\n",
      "2022-12-04 23:43:26,982 WARN scheduler.DAGScheduler: Broadcasting large task binary with size 4.1 MiB\n",
      "2022-12-04 23:43:27,979 WARN scheduler.DAGScheduler: Broadcasting large task binary with size 4.1 MiB\n",
      "2022-12-04 23:43:33,284 WARN scheduler.DAGScheduler: Broadcasting large task binary with size 4.1 MiB\n",
      "2022-12-04 23:43:34,080 WARN scheduler.DAGScheduler: Broadcasting large task binary with size 4.1 MiB\n",
      "2022-12-04 23:43:39,340 WARN scheduler.DAGScheduler: Broadcasting large task binary with size 4.1 MiB\n",
      "2022-12-04 23:43:40,305 WARN scheduler.DAGScheduler: Broadcasting large task binary with size 4.1 MiB\n",
      "2022-12-04 23:43:44,851 WARN scheduler.DAGScheduler: Broadcasting large task binary with size 4.1 MiB\n",
      "2022-12-04 23:43:45,544 WARN scheduler.DAGScheduler: Broadcasting large task binary with size 4.1 MiB\n",
      "2022-12-04 23:43:52,420 WARN scheduler.DAGScheduler: Broadcasting large task binary with size 4.1 MiB\n",
      "2022-12-04 23:43:53,661 WARN scheduler.DAGScheduler: Broadcasting large task binary with size 4.1 MiB\n",
      "2022-12-04 23:43:58,762 WARN scheduler.DAGScheduler: Broadcasting large task binary with size 4.1 MiB\n",
      "2022-12-04 23:44:00,198 WARN scheduler.DAGScheduler: Broadcasting large task binary with size 4.1 MiB\n",
      "2022-12-04 23:44:05,400 WARN scheduler.DAGScheduler: Broadcasting large task binary with size 4.1 MiB\n",
      "2022-12-04 23:44:06,548 WARN scheduler.DAGScheduler: Broadcasting large task binary with size 4.1 MiB\n",
      "2022-12-04 23:44:12,601 WARN scheduler.DAGScheduler: Broadcasting large task binary with size 4.1 MiB\n",
      "2022-12-04 23:44:13,185 WARN scheduler.DAGScheduler: Broadcasting large task binary with size 4.1 MiB\n",
      "2022-12-04 23:44:18,629 WARN scheduler.DAGScheduler: Broadcasting large task binary with size 4.1 MiB\n",
      "2022-12-04 23:44:19,679 WARN scheduler.DAGScheduler: Broadcasting large task binary with size 4.1 MiB\n",
      "2022-12-04 23:44:25,420 WARN scheduler.DAGScheduler: Broadcasting large task binary with size 4.1 MiB\n",
      "2022-12-04 23:44:26,146 WARN scheduler.DAGScheduler: Broadcasting large task binary with size 4.1 MiB\n",
      "2022-12-04 23:44:30,525 WARN scheduler.DAGScheduler: Broadcasting large task binary with size 4.1 MiB\n",
      "2022-12-04 23:44:31,126 WARN scheduler.DAGScheduler: Broadcasting large task binary with size 4.1 MiB\n",
      "2022-12-04 23:44:34,541 WARN scheduler.DAGScheduler: Broadcasting large task binary with size 4.1 MiB\n",
      "2022-12-04 23:44:35,057 WARN scheduler.DAGScheduler: Broadcasting large task binary with size 4.1 MiB\n",
      "2022-12-04 23:44:38,220 WARN scheduler.DAGScheduler: Broadcasting large task binary with size 4.1 MiB\n",
      "2022-12-04 23:44:38,710 WARN scheduler.DAGScheduler: Broadcasting large task binary with size 4.1 MiB\n",
      "2022-12-04 23:44:42,192 WARN scheduler.DAGScheduler: Broadcasting large task binary with size 4.1 MiB\n",
      "2022-12-04 23:44:42,700 WARN scheduler.DAGScheduler: Broadcasting large task binary with size 4.1 MiB\n",
      "2022-12-04 23:44:46,058 WARN scheduler.DAGScheduler: Broadcasting large task binary with size 4.1 MiB\n",
      "2022-12-04 23:44:46,718 WARN scheduler.DAGScheduler: Broadcasting large task binary with size 4.1 MiB\n",
      "2022-12-04 23:44:50,324 WARN scheduler.DAGScheduler: Broadcasting large task binary with size 4.1 MiB\n",
      "2022-12-04 23:44:50,871 WARN scheduler.DAGScheduler: Broadcasting large task binary with size 4.1 MiB\n",
      "2022-12-04 23:44:53,974 WARN scheduler.DAGScheduler: Broadcasting large task binary with size 4.1 MiB\n",
      "2022-12-04 23:44:54,531 WARN scheduler.DAGScheduler: Broadcasting large task binary with size 4.1 MiB\n",
      "2022-12-04 23:44:59,184 WARN scheduler.DAGScheduler: Broadcasting large task binary with size 4.1 MiB\n",
      "2022-12-04 23:45:00,085 WARN scheduler.DAGScheduler: Broadcasting large task binary with size 4.1 MiB\n",
      "2022-12-04 23:45:04,727 WARN scheduler.DAGScheduler: Broadcasting large task binary with size 4.1 MiB\n",
      "2022-12-04 23:45:05,435 WARN scheduler.DAGScheduler: Broadcasting large task binary with size 4.1 MiB\n",
      "2022-12-04 23:45:08,692 WARN scheduler.DAGScheduler: Broadcasting large task binary with size 4.1 MiB\n",
      "2022-12-04 23:45:09,275 WARN scheduler.DAGScheduler: Broadcasting large task binary with size 4.1 MiB\n",
      "2022-12-04 23:45:12,787 WARN scheduler.DAGScheduler: Broadcasting large task binary with size 4.1 MiB\n",
      "2022-12-04 23:45:13,295 WARN scheduler.DAGScheduler: Broadcasting large task binary with size 4.1 MiB\n",
      "2022-12-04 23:45:16,844 WARN scheduler.DAGScheduler: Broadcasting large task binary with size 4.1 MiB\n",
      "2022-12-04 23:45:17,360 WARN scheduler.DAGScheduler: Broadcasting large task binary with size 4.1 MiB\n",
      "2022-12-04 23:45:20,563 WARN scheduler.DAGScheduler: Broadcasting large task binary with size 4.1 MiB\n"
     ]
    },
    {
     "name": "stderr",
     "output_type": "stream",
     "text": [
      "2022-12-04 23:45:21,109 WARN scheduler.DAGScheduler: Broadcasting large task binary with size 4.1 MiB\n",
      "2022-12-04 23:45:25,137 WARN scheduler.DAGScheduler: Broadcasting large task binary with size 4.1 MiB\n",
      "2022-12-04 23:45:25,886 WARN scheduler.DAGScheduler: Broadcasting large task binary with size 4.1 MiB\n",
      "2022-12-04 23:45:29,427 WARN scheduler.DAGScheduler: Broadcasting large task binary with size 4.1 MiB\n",
      "2022-12-04 23:45:30,467 WARN scheduler.DAGScheduler: Broadcasting large task binary with size 4.1 MiB\n",
      "2022-12-04 23:45:34,196 WARN scheduler.DAGScheduler: Broadcasting large task binary with size 4.1 MiB\n",
      "2022-12-04 23:45:34,748 WARN scheduler.DAGScheduler: Broadcasting large task binary with size 4.1 MiB\n",
      "2022-12-04 23:45:38,713 WARN scheduler.DAGScheduler: Broadcasting large task binary with size 4.1 MiB\n",
      "2022-12-04 23:45:39,269 WARN scheduler.DAGScheduler: Broadcasting large task binary with size 4.1 MiB\n",
      "2022-12-04 23:45:42,772 WARN scheduler.DAGScheduler: Broadcasting large task binary with size 4.1 MiB\n",
      "2022-12-04 23:45:43,291 WARN scheduler.DAGScheduler: Broadcasting large task binary with size 4.1 MiB\n",
      "2022-12-04 23:45:46,656 WARN scheduler.DAGScheduler: Broadcasting large task binary with size 4.1 MiB\n",
      "2022-12-04 23:45:47,225 WARN scheduler.DAGScheduler: Broadcasting large task binary with size 4.1 MiB\n",
      "2022-12-04 23:45:51,106 WARN scheduler.DAGScheduler: Broadcasting large task binary with size 4.1 MiB\n",
      "2022-12-04 23:45:51,654 WARN scheduler.DAGScheduler: Broadcasting large task binary with size 4.1 MiB\n",
      "2022-12-04 23:45:57,902 WARN scheduler.DAGScheduler: Broadcasting large task binary with size 4.1 MiB\n",
      "2022-12-04 23:45:58,645 WARN scheduler.DAGScheduler: Broadcasting large task binary with size 4.1 MiB\n",
      "2022-12-04 23:46:01,965 WARN scheduler.DAGScheduler: Broadcasting large task binary with size 4.1 MiB\n",
      "2022-12-04 23:46:02,469 WARN scheduler.DAGScheduler: Broadcasting large task binary with size 4.1 MiB\n",
      "2022-12-04 23:46:05,949 WARN scheduler.DAGScheduler: Broadcasting large task binary with size 4.1 MiB\n",
      "2022-12-04 23:46:06,529 WARN scheduler.DAGScheduler: Broadcasting large task binary with size 4.1 MiB\n",
      "2022-12-04 23:46:09,743 WARN scheduler.DAGScheduler: Broadcasting large task binary with size 4.1 MiB\n",
      "2022-12-04 23:46:10,268 WARN scheduler.DAGScheduler: Broadcasting large task binary with size 4.1 MiB\n",
      "2022-12-04 23:46:13,535 WARN scheduler.DAGScheduler: Broadcasting large task binary with size 4.1 MiB\n",
      "2022-12-04 23:46:14,252 WARN scheduler.DAGScheduler: Broadcasting large task binary with size 4.1 MiB\n",
      "2022-12-04 23:46:17,639 WARN scheduler.DAGScheduler: Broadcasting large task binary with size 4.1 MiB\n",
      "2022-12-04 23:46:18,109 WARN scheduler.DAGScheduler: Broadcasting large task binary with size 4.1 MiB\n",
      "2022-12-04 23:46:23,798 WARN scheduler.DAGScheduler: Broadcasting large task binary with size 4.1 MiB\n",
      "2022-12-04 23:46:24,614 WARN scheduler.DAGScheduler: Broadcasting large task binary with size 4.1 MiB\n",
      "2022-12-04 23:46:28,634 WARN scheduler.DAGScheduler: Broadcasting large task binary with size 4.1 MiB\n",
      "2022-12-04 23:46:29,472 WARN scheduler.DAGScheduler: Broadcasting large task binary with size 4.1 MiB\n",
      "2022-12-04 23:46:36,947 WARN scheduler.DAGScheduler: Broadcasting large task binary with size 4.1 MiB\n",
      "2022-12-04 23:46:38,639 WARN scheduler.DAGScheduler: Broadcasting large task binary with size 4.1 MiB\n",
      "2022-12-04 23:46:44,941 WARN scheduler.DAGScheduler: Broadcasting large task binary with size 4.1 MiB\n",
      "2022-12-04 23:46:45,938 WARN scheduler.DAGScheduler: Broadcasting large task binary with size 4.1 MiB\n",
      "2022-12-04 23:46:51,253 WARN scheduler.DAGScheduler: Broadcasting large task binary with size 4.1 MiB\n",
      "2022-12-04 23:46:51,781 WARN scheduler.DAGScheduler: Broadcasting large task binary with size 4.1 MiB\n",
      "2022-12-04 23:46:59,615 WARN scheduler.DAGScheduler: Broadcasting large task binary with size 4.1 MiB\n",
      "2022-12-04 23:47:00,854 WARN scheduler.DAGScheduler: Broadcasting large task binary with size 4.1 MiB\n",
      "2022-12-04 23:47:06,520 WARN scheduler.DAGScheduler: Broadcasting large task binary with size 4.1 MiB\n",
      "2022-12-04 23:47:07,751 WARN scheduler.DAGScheduler: Broadcasting large task binary with size 4.1 MiB\n",
      "2022-12-04 23:47:12,698 WARN scheduler.DAGScheduler: Broadcasting large task binary with size 4.1 MiB\n",
      "2022-12-04 23:47:13,736 WARN scheduler.DAGScheduler: Broadcasting large task binary with size 4.1 MiB\n",
      "2022-12-04 23:47:18,417 WARN scheduler.DAGScheduler: Broadcasting large task binary with size 4.1 MiB\n",
      "2022-12-04 23:47:19,161 WARN scheduler.DAGScheduler: Broadcasting large task binary with size 4.1 MiB\n",
      "2022-12-04 23:47:23,177 WARN scheduler.DAGScheduler: Broadcasting large task binary with size 4.1 MiB\n",
      "2022-12-04 23:47:23,986 WARN scheduler.DAGScheduler: Broadcasting large task binary with size 4.1 MiB\n",
      "2022-12-04 23:47:27,967 WARN scheduler.DAGScheduler: Broadcasting large task binary with size 4.1 MiB\n",
      "                                                                                \r"
     ]
    }
   ],
   "source": [
    "# create basic logistic regression model\n",
    "lr = LogisticRegression(labelCol=\"label\")\n",
    "\n",
    "# create entire pipeline\n",
    "sentiment_analysis_pipeline = Pipeline(\n",
    "    stages=[tokenizer,stopwords_remover,hashing_tf,idf,lr]\n",
    ")\n",
    "   \n",
    "# Fit sentiment analysis model    \n",
    "sentiment_analysis_model = sentiment_analysis_pipeline.fit(train_df)"
   ]
  },
  {
   "cell_type": "code",
   "execution_count": 65,
   "id": "a3f36e17",
   "metadata": {},
   "outputs": [],
   "source": [
    "# training Logistic Regression model using train data\n",
    "\n",
    "trained_df_sa = sentiment_analysis_model.transform(train_df)"
   ]
  },
  {
   "cell_type": "code",
   "execution_count": 66,
   "id": "86696c23",
   "metadata": {},
   "outputs": [],
   "source": [
    "#  Logistic Regression model on test data to evaluate the model\n",
    "\n",
    "test_df_sa = sentiment_analysis_model.transform(test_df)"
   ]
  },
  {
   "cell_type": "code",
   "execution_count": 67,
   "id": "ea51c2a4",
   "metadata": {},
   "outputs": [
    {
     "name": "stderr",
     "output_type": "stream",
     "text": [
      "2022-12-04 23:47:31,861 WARN scheduler.DAGScheduler: Broadcasting large task binary with size 5.9 MiB\n"
     ]
    },
    {
     "name": "stdout",
     "output_type": "stream",
     "text": [
      "+--------------------+-----+--------------------+--------------------+--------------------+--------------------+--------------------+--------------------+----------+\n",
      "|                Text|label|              words1|              words2|      term_frequency|            features|       rawPrediction|         probability|prediction|\n",
      "+--------------------+-----+--------------------+--------------------+--------------------+--------------------+--------------------+--------------------+----------+\n",
      "|\n",
      "\n",
      "  mad woman by ...|  2.0|[, , , , mad, wom...|[, , , , mad, wom...|(262144,[32055,13...|(262144,[32055,13...|[-4.1584729125824...|[5.35769281388738...|       2.0|\n",
      "|\n",
      "\n",
      "damn fuck \n",
      "\n",
      "\n",
      "\n",
      " ...|  2.0|[, , damn, fuck, ...|[, , damn, fuck, ...|(262144,[98142,23...|(262144,[98142,23...|[-16.253090227638...|[1.11971817886319...|       2.0|\n",
      "+--------------------+-----+--------------------+--------------------+--------------------+--------------------+--------------------+--------------------+----------+\n",
      "only showing top 2 rows\n",
      "\n"
     ]
    }
   ],
   "source": [
    "# train data\n",
    "trained_df_sa.show(2)"
   ]
  },
  {
   "cell_type": "code",
   "execution_count": 68,
   "id": "8baddcb4",
   "metadata": {},
   "outputs": [
    {
     "name": "stderr",
     "output_type": "stream",
     "text": [
      "2022-12-04 23:47:32,915 WARN scheduler.DAGScheduler: Broadcasting large task binary with size 5.9 MiB\n",
      "[Stage 233:>                                                        (0 + 1) / 1]\r"
     ]
    },
    {
     "name": "stdout",
     "output_type": "stream",
     "text": [
      "+--------------------+-----+--------------------+--------------+--------------------+--------------------+--------------------+--------------------+----------+\n",
      "|                Text|label|              words1|        words2|      term_frequency|            features|       rawPrediction|         probability|prediction|\n",
      "+--------------------+-----+--------------------+--------------+--------------------+--------------------+--------------------+--------------------+----------+\n",
      "|\n",
      "\n",
      "\n",
      " what s the pl...|  0.0|[, , , , what, s,...|[, , , , plan]|(262144,[232427,2...|(262144,[232427,2...|[4.01205826309779...|[0.99399030849045...|       0.0|\n",
      "|                 \n",
      "\n",
      " |  0.0|                  []|            []|      (262144,[],[])|      (262144,[],[])|[4.61718301088595...|[0.99746587245784...|       0.0|\n",
      "+--------------------+-----+--------------------+--------------+--------------------+--------------------+--------------------+--------------------+----------+\n",
      "only showing top 2 rows\n",
      "\n"
     ]
    },
    {
     "name": "stderr",
     "output_type": "stream",
     "text": [
      "\r",
      "                                                                                \r"
     ]
    }
   ],
   "source": [
    "# test data\n",
    "\n",
    "test_df_sa.show(2)"
   ]
  },
  {
   "cell_type": "code",
   "execution_count": 69,
   "id": "8591a09e",
   "metadata": {},
   "outputs": [
    {
     "name": "stderr",
     "output_type": "stream",
     "text": [
      "2022-12-04 23:47:34,611 WARN scheduler.DAGScheduler: Broadcasting large task binary with size 5.9 MiB\n",
      "[Stage 234:=================================================>       (7 + 1) / 8]\r"
     ]
    },
    {
     "name": "stdout",
     "output_type": "stream",
     "text": [
      "logistic regression model train data accuracy:99.36739%\n"
     ]
    },
    {
     "name": "stderr",
     "output_type": "stream",
     "text": [
      "\r",
      "                                                                                \r"
     ]
    }
   ],
   "source": [
    "#Evaluating Model\n",
    "\n",
    "from pyspark.ml.evaluation import MulticlassClassificationEvaluator\n",
    "\n",
    "evaluator = MulticlassClassificationEvaluator(labelCol=\"label\",metricName = 'accuracy')\n",
    "\n",
    "accuracy_train = evaluator.evaluate(trained_df_sa)\n",
    "\n",
    "#Train data accuracy using LR model\n",
    "\n",
    "print(f\"logistic regression model train data accuracy:{accuracy_train * 100:.5f}%\")"
   ]
  },
  {
   "cell_type": "code",
   "execution_count": 70,
   "id": "78a24758",
   "metadata": {},
   "outputs": [
    {
     "name": "stderr",
     "output_type": "stream",
     "text": [
      "2022-12-04 23:57:48,187 WARN scheduler.DAGScheduler: Broadcasting large task binary with size 5.9 MiB\n",
      "[Stage 236:=================================================>       (7 + 1) / 8]\r"
     ]
    },
    {
     "name": "stdout",
     "output_type": "stream",
     "text": [
      "logistic regression model test data accuracy:99.38069%\n"
     ]
    },
    {
     "name": "stderr",
     "output_type": "stream",
     "text": [
      "\r",
      "                                                                                \r"
     ]
    }
   ],
   "source": [
    "# Test data accuracy using LR model\n",
    "\n",
    "accuracy_test = evaluator.evaluate(test_df_sa)\n",
    "\n",
    "print(f\"logistic regression model test data accuracy:{accuracy_test * 100:.5f}%\")"
   ]
  },
  {
   "cell_type": "code",
   "execution_count": 71,
   "id": "0859be2a",
   "metadata": {},
   "outputs": [
    {
     "name": "stdout",
     "output_type": "stream",
     "text": [
      "Defaulting to user installation because normal site-packages is not writeable\n",
      "Requirement already satisfied: scikit-learn in /home/hduser/.local/lib/python3.10/site-packages (1.1.3)\n",
      "\u001b[33mWARNING: Retrying (Retry(total=4, connect=None, read=None, redirect=None, status=None)) after connection broken by 'NewConnectionError('<pip._vendor.urllib3.connection.HTTPSConnection object at 0x7f9dbbc591e0>: Failed to establish a new connection: [Errno -2] Name or service not known')': /simple/scikit-learn/\u001b[0m\u001b[33m\n",
      "\u001b[0m\u001b[33mWARNING: Retrying (Retry(total=3, connect=None, read=None, redirect=None, status=None)) after connection broken by 'NewConnectionError('<pip._vendor.urllib3.connection.HTTPSConnection object at 0x7f9dbbc59510>: Failed to establish a new connection: [Errno -2] Name or service not known')': /simple/scikit-learn/\u001b[0m\u001b[33m\n",
      "\u001b[0m\u001b[33mWARNING: Retrying (Retry(total=2, connect=None, read=None, redirect=None, status=None)) after connection broken by 'NewConnectionError('<pip._vendor.urllib3.connection.HTTPSConnection object at 0x7f9dbbc596c0>: Failed to establish a new connection: [Errno -2] Name or service not known')': /simple/scikit-learn/\u001b[0m\u001b[33m\n",
      "\u001b[0m\u001b[33mWARNING: Retrying (Retry(total=1, connect=None, read=None, redirect=None, status=None)) after connection broken by 'NewConnectionError('<pip._vendor.urllib3.connection.HTTPSConnection object at 0x7f9dbbc59870>: Failed to establish a new connection: [Errno -2] Name or service not known')': /simple/scikit-learn/\u001b[0m\u001b[33m\n",
      "\u001b[0m\u001b[33mWARNING: Retrying (Retry(total=0, connect=None, read=None, redirect=None, status=None)) after connection broken by 'NewConnectionError('<pip._vendor.urllib3.connection.HTTPSConnection object at 0x7f9dbbc59a20>: Failed to establish a new connection: [Errno -2] Name or service not known')': /simple/scikit-learn/\u001b[0m\u001b[33m\n",
      "\u001b[0mRequirement already satisfied: scipy in /home/hduser/.local/lib/python3.10/site-packages (1.9.3)\n",
      "\u001b[33mWARNING: Retrying (Retry(total=4, connect=None, read=None, redirect=None, status=None)) after connection broken by 'NewConnectionError('<pip._vendor.urllib3.connection.HTTPSConnection object at 0x7f9dbbac1bd0>: Failed to establish a new connection: [Errno -2] Name or service not known')': /simple/scipy/\u001b[0m\u001b[33m\n",
      "\u001b[0m\u001b[33mWARNING: Retrying (Retry(total=3, connect=None, read=None, redirect=None, status=None)) after connection broken by 'NewConnectionError('<pip._vendor.urllib3.connection.HTTPSConnection object at 0x7f9dbbac1e10>: Failed to establish a new connection: [Errno -2] Name or service not known')': /simple/scipy/\u001b[0m\u001b[33m\n",
      "\u001b[0m\u001b[33mWARNING: Retrying (Retry(total=2, connect=None, read=None, redirect=None, status=None)) after connection broken by 'NewConnectionError('<pip._vendor.urllib3.connection.HTTPSConnection object at 0x7f9dbbac1fc0>: Failed to establish a new connection: [Errno -2] Name or service not known')': /simple/scipy/\u001b[0m\u001b[33m\n",
      "\u001b[0m\u001b[33mWARNING: Retrying (Retry(total=1, connect=None, read=None, redirect=None, status=None)) after connection broken by 'NewConnectionError('<pip._vendor.urllib3.connection.HTTPSConnection object at 0x7f9dbbac2170>: Failed to establish a new connection: [Errno -2] Name or service not known')': /simple/scipy/\u001b[0m\u001b[33m\n",
      "\u001b[0m\u001b[33mWARNING: Retrying (Retry(total=0, connect=None, read=None, redirect=None, status=None)) after connection broken by 'NewConnectionError('<pip._vendor.urllib3.connection.HTTPSConnection object at 0x7f9dbbac2320>: Failed to establish a new connection: [Errno -2] Name or service not known')': /simple/scipy/\u001b[0m\u001b[33m\n",
      "\u001b[0mRequirement already satisfied: matplotlib in /home/hduser/.local/lib/python3.10/site-packages (3.6.2)\n",
      "\u001b[33mWARNING: Retrying (Retry(total=4, connect=None, read=None, redirect=None, status=None)) after connection broken by 'NewConnectionError('<pip._vendor.urllib3.connection.HTTPSConnection object at 0x7f9dbbac1ab0>: Failed to establish a new connection: [Errno -2] Name or service not known')': /simple/matplotlib/\u001b[0m\u001b[33m\n",
      "\u001b[0m\u001b[33mWARNING: Retrying (Retry(total=3, connect=None, read=None, redirect=None, status=None)) after connection broken by 'NewConnectionError('<pip._vendor.urllib3.connection.HTTPSConnection object at 0x7f9dbbac2230>: Failed to establish a new connection: [Errno -2] Name or service not known')': /simple/matplotlib/\u001b[0m\u001b[33m\n",
      "\u001b[0m\u001b[33mWARNING: Retrying (Retry(total=2, connect=None, read=None, redirect=None, status=None)) after connection broken by 'NewConnectionError('<pip._vendor.urllib3.connection.HTTPSConnection object at 0x7f9dbbac2140>: Failed to establish a new connection: [Errno -2] Name or service not known')': /simple/matplotlib/\u001b[0m\u001b[33m\n",
      "\u001b[0m\u001b[33mWARNING: Retrying (Retry(total=1, connect=None, read=None, redirect=None, status=None)) after connection broken by 'NewConnectionError('<pip._vendor.urllib3.connection.HTTPSConnection object at 0x7f9dbbac1f00>: Failed to establish a new connection: [Errno -2] Name or service not known')': /simple/matplotlib/\u001b[0m\u001b[33m\n",
      "\u001b[0m\u001b[33mWARNING: Retrying (Retry(total=0, connect=None, read=None, redirect=None, status=None)) after connection broken by 'NewConnectionError('<pip._vendor.urllib3.connection.HTTPSConnection object at 0x7f9dbbac1a50>: Failed to establish a new connection: [Errno -2] Name or service not known')': /simple/matplotlib/\u001b[0m\u001b[33m\n",
      "\u001b[0mRequirement already satisfied: joblib>=1.0.0 in /home/hduser/.local/lib/python3.10/site-packages (from scikit-learn) (1.1.0)\n",
      "Requirement already satisfied: numpy>=1.17.3 in /usr/lib/python3/dist-packages (from scikit-learn) (1.21.5)\n",
      "Requirement already satisfied: threadpoolctl>=2.0.0 in /home/hduser/.local/lib/python3.10/site-packages (from scikit-learn) (3.1.0)\n",
      "Requirement already satisfied: contourpy>=1.0.1 in /home/hduser/.local/lib/python3.10/site-packages (from matplotlib) (1.0.6)\n",
      "Requirement already satisfied: packaging>=20.0 in /usr/lib/python3/dist-packages (from matplotlib) (21.3)\n",
      "Requirement already satisfied: cycler>=0.10 in /usr/lib/python3/dist-packages (from matplotlib) (0.11.0)\n",
      "Requirement already satisfied: python-dateutil>=2.7 in /usr/lib/python3/dist-packages (from matplotlib) (2.8.1)\n",
      "Requirement already satisfied: pillow>=6.2.0 in /usr/lib/python3/dist-packages (from matplotlib) (9.0.1)\n",
      "Requirement already satisfied: kiwisolver>=1.0.1 in /usr/lib/python3/dist-packages (from matplotlib) (1.3.2)\n",
      "Requirement already satisfied: fonttools>=4.22.0 in /usr/lib/python3/dist-packages (from matplotlib) (4.29.1)\n",
      "Requirement already satisfied: pyparsing>=2.2.1 in /usr/lib/python3/dist-packages (from matplotlib) (2.4.7)\n"
     ]
    }
   ],
   "source": [
    "!pip3 install -U scikit-learn scipy matplotlib"
   ]
  },
  {
   "cell_type": "code",
   "execution_count": 72,
   "id": "2802bcba",
   "metadata": {},
   "outputs": [
    {
     "name": "stderr",
     "output_type": "stream",
     "text": [
      "2022-12-05 00:02:34,408 WARN scheduler.DAGScheduler: Broadcasting large task binary with size 5.9 MiB\n",
      "                                                                                \r"
     ]
    }
   ],
   "source": [
    "from sklearn.metrics import confusion_matrix\n",
    "from sklearn.metrics import classification_report, accuracy_score\n",
    "\n",
    "# Select columns for classification report\n",
    "df_lr_report = test_df_sa.select(\"Text\",\"label\",\"prediction\").toPandas()"
   ]
  },
  {
   "cell_type": "code",
   "execution_count": 73,
   "id": "c6dd249f",
   "metadata": {},
   "outputs": [
    {
     "data": {
      "text/html": [
       "<div>\n",
       "<style scoped>\n",
       "    .dataframe tbody tr th:only-of-type {\n",
       "        vertical-align: middle;\n",
       "    }\n",
       "\n",
       "    .dataframe tbody tr th {\n",
       "        vertical-align: top;\n",
       "    }\n",
       "\n",
       "    .dataframe thead th {\n",
       "        text-align: right;\n",
       "    }\n",
       "</style>\n",
       "<table border=\"1\" class=\"dataframe\">\n",
       "  <thead>\n",
       "    <tr style=\"text-align: right;\">\n",
       "      <th></th>\n",
       "      <th>Text</th>\n",
       "      <th>label</th>\n",
       "      <th>prediction</th>\n",
       "    </tr>\n",
       "  </thead>\n",
       "  <tbody>\n",
       "    <tr>\n",
       "      <th>0</th>\n",
       "      <td>i hate this song until i hear someone talk shit  then its my child to protect\\n\\nanyways the song that really deserved this treatment</td>\n",
       "      <td>2.0</td>\n",
       "      <td>2.0</td>\n",
       "    </tr>\n",
       "    <tr>\n",
       "      <th>1</th>\n",
       "      <td>thats why being a songwriter singer is important  you can produce a song anytime you want \\nyour mad cause taylor produce and write her own song</td>\n",
       "      <td>2.0</td>\n",
       "      <td>2.0</td>\n",
       "    </tr>\n",
       "    <tr>\n",
       "      <th>2</th>\n",
       "      <td>s cast on the  song they would sing at karaoke\\n\\ntaylo smith  atw   min version  \\ndaisy  shake it off</td>\n",
       "      <td>2.0</td>\n",
       "      <td>2.0</td>\n",
       "    </tr>\n",
       "    <tr>\n",
       "      <th>3</th>\n",
       "      <td>that s weird\\nthat s suspicious</td>\n",
       "      <td>2.0</td>\n",
       "      <td>2.0</td>\n",
       "    </tr>\n",
       "    <tr>\n",
       "      <th>4</th>\n",
       "      <td>st two lines of style\\n\\nmidnight\\nyou come and pick me up  no headlights</td>\n",
       "      <td>2.0</td>\n",
       "      <td>0.0</td>\n",
       "    </tr>\n",
       "  </tbody>\n",
       "</table>\n",
       "</div>"
      ],
      "text/plain": [
       "                                                                                                                                                   Text  \\\n",
       "0                i hate this song until i hear someone talk shit  then its my child to protect\\n\\nanyways the song that really deserved this treatment    \n",
       "1      thats why being a songwriter singer is important  you can produce a song anytime you want \\nyour mad cause taylor produce and write her own song   \n",
       "2                                              s cast on the  song they would sing at karaoke\\n\\ntaylo smith  atw   min version  \\ndaisy  shake it off    \n",
       "3                                                                                                                       that s weird\\nthat s suspicious   \n",
       "4                                                                             st two lines of style\\n\\nmidnight\\nyou come and pick me up  no headlights   \n",
       "\n",
       "   label  prediction  \n",
       "0    2.0         2.0  \n",
       "1    2.0         2.0  \n",
       "2    2.0         2.0  \n",
       "3    2.0         2.0  \n",
       "4    2.0         0.0  "
      ]
     },
     "execution_count": 73,
     "metadata": {},
     "output_type": "execute_result"
    }
   ],
   "source": [
    "# dataframe for classification report\n",
    "\n",
    "df_lr_report.head(5)"
   ]
  },
  {
   "cell_type": "code",
   "execution_count": 74,
   "id": "0616cb17",
   "metadata": {},
   "outputs": [
    {
     "name": "stdout",
     "output_type": "stream",
     "text": [
      "              precision    recall  f1-score   support\n",
      "\n",
      "         0.0       1.00      1.00      1.00    346339\n",
      "         1.0       0.99      1.00      1.00    415824\n",
      "         2.0       0.91      0.70      0.79     11157\n",
      "\n",
      "    accuracy                           0.99    773320\n",
      "   macro avg       0.97      0.90      0.93    773320\n",
      "weighted avg       0.99      0.99      0.99    773320\n",
      "\n"
     ]
    }
   ],
   "source": [
    "#classification report using Logisitic Regression Model\n",
    "\n",
    "print(classification_report(df_lr_report.label,df_lr_report.prediction))"
   ]
  },
  {
   "cell_type": "code",
   "execution_count": 75,
   "id": "3522005d",
   "metadata": {},
   "outputs": [
    {
     "name": "stderr",
     "output_type": "stream",
     "text": [
      "2022-12-05 00:07:59,341 WARN scheduler.DAGScheduler: Broadcasting large task binary with size 4.1 MiB\n",
      "2022-12-05 00:08:54,858 WARN scheduler.DAGScheduler: Broadcasting large task binary with size 4.1 MiB\n",
      "                                                                                \r"
     ]
    }
   ],
   "source": [
    "\n",
    "from pyspark.ml.classification import NaiveBayes \n",
    "# create basic naive bayes model\n",
    "\n",
    "nb = NaiveBayes(labelCol=\"label\")\n",
    "\n",
    "# create entire pipeline\n",
    "nb_pipeline = Pipeline(\n",
    "    stages=[tokenizer,stopwords_remover,hashing_tf,idf,nb]\n",
    ")\n",
    "# Fit Naive Bayes model\n",
    "nb_model = nb_pipeline.fit(train_df)"
   ]
  },
  {
   "cell_type": "code",
   "execution_count": 76,
   "id": "c8425445",
   "metadata": {},
   "outputs": [],
   "source": [
    "# training Naive Bayes model using train data\n",
    "\n",
    "trained_df_nb = nb_model.transform(train_df)"
   ]
  },
  {
   "cell_type": "code",
   "execution_count": 77,
   "id": "4618000b",
   "metadata": {},
   "outputs": [],
   "source": [
    "# training Naive Bayes model using test data\n",
    "\n",
    "test_df_nb = nb_model.transform(test_df)"
   ]
  },
  {
   "cell_type": "code",
   "execution_count": 78,
   "id": "9ad35714",
   "metadata": {},
   "outputs": [
    {
     "name": "stdout",
     "output_type": "stream",
     "text": [
      "+--------------------+-----+--------------------+--------------------+--------------------+--------------------+--------------------+--------------------+----------+\n",
      "|                Text|label|              words1|              words2|      term_frequency|            features|       rawPrediction|         probability|prediction|\n",
      "+--------------------+-----+--------------------+--------------------+--------------------+--------------------+--------------------+--------------------+----------+\n",
      "|\n",
      "by\n",
      " ft \n",
      "\n",
      " transc...|  2.0|[, by, , ft, , , ...|[, , ft, , , , tr...|(262144,[73712,10...|(262144,[73712,10...|[-1090.8771735734...|[1.65324381412135...|       2.0|\n",
      "|\n",
      "estos das no pue...|  2.0|[, estos, das, no...|[, estos, das, pu...|(262144,[32297,43...|(262144,[32297,43...|[-1219.8822343277...|[1.0,8.4730750716...|       0.0|\n",
      "+--------------------+-----+--------------------+--------------------+--------------------+--------------------+--------------------+--------------------+----------+\n",
      "only showing top 2 rows\n",
      "\n"
     ]
    },
    {
     "name": "stderr",
     "output_type": "stream",
     "text": [
      "2022-12-05 00:08:59,720 WARN scheduler.DAGScheduler: Broadcasting large task binary with size 10.1 MiB\n"
     ]
    }
   ],
   "source": [
    "# Check train data using naive bayes\n",
    "\n",
    "trained_df_nb.show(2)"
   ]
  },
  {
   "cell_type": "code",
   "execution_count": 79,
   "id": "a065717a",
   "metadata": {},
   "outputs": [
    {
     "name": "stderr",
     "output_type": "stream",
     "text": [
      "2022-12-05 00:09:00,369 WARN scheduler.DAGScheduler: Broadcasting large task binary with size 10.1 MiB\n"
     ]
    },
    {
     "name": "stdout",
     "output_type": "stream",
     "text": [
      "+--------------------+-----+--------------------+--------------------+--------------------+--------------------+--------------------+--------------------+----------+\n",
      "|                Text|label|              words1|              words2|      term_frequency|            features|       rawPrediction|         probability|prediction|\n",
      "+--------------------+-----+--------------------+--------------------+--------------------+--------------------+--------------------+--------------------+----------+\n",
      "|\n",
      "i didnt notice t...|  2.0|[, i, didnt, noti...|[, didnt, notice,...|(262144,[5381,572...|(262144,[5381,572...|[-454.33061500731...|[1.12089442337008...|       1.0|\n",
      "|\n",
      "slowly we lose o...|  2.0|[, slowly, we, lo...|[, slowly, lose, ...|(262144,[5765,140...|(262144,[5765,140...|[-1246.3630417288...|[5.48362572391877...|       1.0|\n",
      "+--------------------+-----+--------------------+--------------------+--------------------+--------------------+--------------------+--------------------+----------+\n",
      "only showing top 2 rows\n",
      "\n"
     ]
    }
   ],
   "source": [
    "# Check test data using naive bayes\n",
    "\n",
    "test_df_nb.show(2)"
   ]
  },
  {
   "cell_type": "code",
   "execution_count": 80,
   "id": "7d070425",
   "metadata": {},
   "outputs": [
    {
     "name": "stderr",
     "output_type": "stream",
     "text": [
      "2022-12-05 00:09:01,141 WARN scheduler.DAGScheduler: Broadcasting large task binary with size 10.1 MiB\n",
      "[Stage 245:=================================================>       (7 + 1) / 8]\r"
     ]
    },
    {
     "name": "stdout",
     "output_type": "stream",
     "text": [
      "NaiveBayes train data accuracy:83.10058%\n"
     ]
    },
    {
     "name": "stderr",
     "output_type": "stream",
     "text": [
      "\r",
      "                                                                                \r"
     ]
    }
   ],
   "source": [
    "#Evaluating Model\n",
    "\n",
    "evaluator = MulticlassClassificationEvaluator(labelCol=\"label\",metricName = 'accuracy')\n",
    "nb_accuracy_train = evaluator.evaluate(trained_df_nb)\n",
    "\n",
    "#Train accuracy of NB model\n",
    "\n",
    "print(f\"NaiveBayes train data accuracy:{nb_accuracy_train * 100:.5f}%\")"
   ]
  },
  {
   "cell_type": "code",
   "execution_count": 81,
   "id": "9f6b8fba",
   "metadata": {},
   "outputs": [
    {
     "name": "stderr",
     "output_type": "stream",
     "text": [
      "2022-12-05 00:10:00,297 WARN scheduler.DAGScheduler: Broadcasting large task binary with size 10.1 MiB\n",
      "[Stage 247:=================================================>       (7 + 1) / 8]\r"
     ]
    },
    {
     "name": "stdout",
     "output_type": "stream",
     "text": [
      "NaiveBayes test data accuracy:83.11304%\n"
     ]
    },
    {
     "name": "stderr",
     "output_type": "stream",
     "text": [
      "\r",
      "                                                                                \r"
     ]
    }
   ],
   "source": [
    "#Test accuracy of NB model\n",
    "nb_accuracy_test = evaluator.evaluate(test_df_nb)\n",
    "\n",
    "print(f\"NaiveBayes test data accuracy:{nb_accuracy_test * 100:.5f}%\")\n"
   ]
  },
  {
   "cell_type": "code",
   "execution_count": 82,
   "id": "8ef4ab05",
   "metadata": {},
   "outputs": [
    {
     "name": "stderr",
     "output_type": "stream",
     "text": [
      "2022-12-05 00:10:38,621 WARN scheduler.DAGScheduler: Broadcasting large task binary with size 10.1 MiB\n",
      "                                                                                \r"
     ]
    }
   ],
   "source": [
    "# Select columns for classification report\n",
    "\n",
    "df_nb_test_report = test_df_nb.select(\"Text\",\"label\",\"prediction\").toPandas()"
   ]
  },
  {
   "cell_type": "code",
   "execution_count": 83,
   "id": "9c5e3874",
   "metadata": {},
   "outputs": [
    {
     "name": "stdout",
     "output_type": "stream",
     "text": [
      "              precision    recall  f1-score   support\n",
      "\n",
      "         0.0       0.97      0.69      0.80    346854\n",
      "         1.0       0.79      0.96      0.87    415855\n",
      "         2.0       0.27      0.60      0.38     11171\n",
      "\n",
      "    accuracy                           0.83    773880\n",
      "   macro avg       0.68      0.75      0.68    773880\n",
      "weighted avg       0.86      0.83      0.83    773880\n",
      "\n"
     ]
    }
   ],
   "source": [
    "#classification report using Naive Bayes Model\n",
    "\n",
    "print(classification_report(df_nb_test_report.label,df_nb_test_report.prediction))"
   ]
  },
  {
   "cell_type": "code",
   "execution_count": 84,
   "id": "ff96b18e",
   "metadata": {},
   "outputs": [
    {
     "name": "stderr",
     "output_type": "stream",
     "text": [
      "2022-12-05 00:12:07,019 WARN scheduler.DAGScheduler: Broadcasting large task binary with size 4.1 MiB\n",
      "2022-12-05 00:13:03,240 WARN scheduler.DAGScheduler: Broadcasting large task binary with size 4.1 MiB\n",
      "                                                                                \r"
     ]
    }
   ],
   "source": [
    "from pyspark.ml.classification import RandomForestClassifier\n",
    "# create basic RandomForestClassifier model\n",
    "\n",
    "rf = RandomForestClassifier(labelCol=\"label\")\n",
    "\n",
    "# create entire pipeline\n",
    "\n",
    "rf_pipeline = Pipeline(\n",
    "    stages=[tokenizer,stopwords_remover,hashing_tf,idf,nb]\n",
    ")\n",
    "\n",
    "# Fit RandomForestClassifier model\n",
    "rf_model = rf_pipeline.fit(train_df)"
   ]
  },
  {
   "cell_type": "code",
   "execution_count": 85,
   "id": "a4ccd209",
   "metadata": {},
   "outputs": [],
   "source": [
    "# training  RandomForestClassifier model using train data\n",
    "trained_df_rf = rf_model.transform(train_df)\n",
    "\n",
    "# training  RandomForestClassifier model using test data\n",
    "test_df_rf = rf_model.transform(test_df)"
   ]
  },
  {
   "cell_type": "code",
   "execution_count": 86,
   "id": "7001b5ed",
   "metadata": {},
   "outputs": [
    {
     "name": "stderr",
     "output_type": "stream",
     "text": [
      "2022-12-05 00:13:06,805 WARN scheduler.DAGScheduler: Broadcasting large task binary with size 10.1 MiB\n",
      "[Stage 254:=================================================>       (7 + 1) / 8]\r"
     ]
    },
    {
     "name": "stdout",
     "output_type": "stream",
     "text": [
      "RandomForest Model train data accuracy:83.07424%\n"
     ]
    },
    {
     "name": "stderr",
     "output_type": "stream",
     "text": [
      "\r",
      "                                                                                \r"
     ]
    }
   ],
   "source": [
    "# Model evaulation\n",
    "\n",
    "evaluator = MulticlassClassificationEvaluator(labelCol=\"label\",metricName = 'accuracy')\n",
    "\n",
    "# train accuracy\n",
    "rf_accuracy_train = evaluator.evaluate(trained_df_rf)\n",
    "\n",
    "print(f\"RandomForest Model train data accuracy:{rf_accuracy_train * 100:.5f}%\")"
   ]
  },
  {
   "cell_type": "code",
   "execution_count": 87,
   "id": "6e80b392",
   "metadata": {},
   "outputs": [
    {
     "name": "stderr",
     "output_type": "stream",
     "text": [
      "2022-12-05 00:14:07,195 WARN scheduler.DAGScheduler: Broadcasting large task binary with size 10.1 MiB\n",
      "[Stage 256:=================================================>       (7 + 1) / 8]\r"
     ]
    },
    {
     "name": "stdout",
     "output_type": "stream",
     "text": [
      "Random Forest Model test data accuracy:83.03585%\n"
     ]
    },
    {
     "name": "stderr",
     "output_type": "stream",
     "text": [
      "\r",
      "                                                                                \r"
     ]
    }
   ],
   "source": [
    "# test accuracy\n",
    "rf_accuracy_test = evaluator.evaluate(test_df_rf)\n",
    "\n",
    "print(f\"Random Forest Model test data accuracy:{rf_accuracy_test * 100:.5f}%\")\n"
   ]
  },
  {
   "cell_type": "code",
   "execution_count": 88,
   "id": "761ab7b6",
   "metadata": {},
   "outputs": [
    {
     "name": "stderr",
     "output_type": "stream",
     "text": [
      "2022-12-05 00:14:44,255 WARN scheduler.DAGScheduler: Broadcasting large task binary with size 10.1 MiB\n",
      "                                                                                \r"
     ]
    }
   ],
   "source": [
    "# Select columns for classification report\n",
    "df_rf_test_report = test_df_rf.select(\"Text\",\"label\",\"prediction\").toPandas()"
   ]
  },
  {
   "cell_type": "code",
   "execution_count": 89,
   "id": "ae07a514",
   "metadata": {},
   "outputs": [
    {
     "name": "stdout",
     "output_type": "stream",
     "text": [
      "              precision    recall  f1-score   support\n",
      "\n",
      "         0.0       0.97      0.68      0.80    346463\n",
      "         1.0       0.79      0.96      0.87    416162\n",
      "         2.0       0.27      0.60      0.37     11276\n",
      "\n",
      "    accuracy                           0.83    773901\n",
      "   macro avg       0.68      0.75      0.68    773901\n",
      "weighted avg       0.86      0.83      0.83    773901\n",
      "\n"
     ]
    }
   ],
   "source": [
    "#classification report using Naive Bayes Model\n",
    "\n",
    "print(classification_report(df_rf_test_report.label,df_rf_test_report.prediction))"
   ]
  },
  {
   "cell_type": "code",
   "execution_count": null,
   "id": "9a0cd638",
   "metadata": {},
   "outputs": [],
   "source": []
  },
  {
   "cell_type": "code",
   "execution_count": null,
   "id": "aebf1aba",
   "metadata": {},
   "outputs": [],
   "source": []
  },
  {
   "cell_type": "code",
   "execution_count": null,
   "id": "7869f355",
   "metadata": {},
   "outputs": [],
   "source": []
  }
 ],
 "metadata": {
  "kernelspec": {
   "display_name": "Python 3 (ipykernel)",
   "language": "python",
   "name": "python3"
  },
  "language_info": {
   "codemirror_mode": {
    "name": "ipython",
    "version": 3
   },
   "file_extension": ".py",
   "mimetype": "text/x-python",
   "name": "python",
   "nbconvert_exporter": "python",
   "pygments_lexer": "ipython3",
   "version": "3.10.4"
  }
 },
 "nbformat": 4,
 "nbformat_minor": 5
}
